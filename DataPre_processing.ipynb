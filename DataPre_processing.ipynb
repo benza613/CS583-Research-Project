{
  "nbformat": 4,
  "nbformat_minor": 0,
  "metadata": {
    "colab": {
      "name": "DataPre-processing.ipynb",
      "provenance": [],
      "private_outputs": true,
      "collapsed_sections": [],
      "authorship_tag": "ABX9TyOZyXaN98USITA5xGdPWBXd",
      "include_colab_link": true
    },
    "kernelspec": {
      "name": "python3",
      "display_name": "Python 3"
    }
  },
  "cells": [
    {
      "cell_type": "markdown",
      "metadata": {
        "id": "view-in-github",
        "colab_type": "text"
      },
      "source": [
        "<a href=\"https://colab.research.google.com/github/benza613/CS583-Research-Project/blob/main/DataPre_processing.ipynb\" target=\"_parent\"><img src=\"https://colab.research.google.com/assets/colab-badge.svg\" alt=\"Open In Colab\"/></a>"
      ]
    },
    {
      "cell_type": "code",
      "metadata": {
        "id": "q3fuZP-c9Oht"
      },
      "source": [
        "# Mount Google Drive\n",
        "from google.colab import drive # import drive from google colab\n",
        "\n",
        "ROOT = \"/content/gdrive\"     # default location for the drive\n",
        "print(ROOT)                 # print content of ROOT (Optional)\n",
        "\n",
        "drive.mount(ROOT) "
      ],
      "execution_count": null,
      "outputs": []
    },
    {
      "cell_type": "code",
      "metadata": {
        "id": "FCeQdg3F9Wuc"
      },
      "source": [
        "%cd gdrive/MyDrive/DMTM_Project/"
      ],
      "execution_count": null,
      "outputs": []
    },
    {
      "cell_type": "code",
      "metadata": {
        "id": "seap1FZk9a_P"
      },
      "source": [
        "%ls"
      ],
      "execution_count": null,
      "outputs": []
    },
    {
      "cell_type": "code",
      "metadata": {
        "id": "fuV_lCf29cHX"
      },
      "source": [
        "!pip install tweet-preprocessor"
      ],
      "execution_count": null,
      "outputs": []
    },
    {
      "cell_type": "code",
      "metadata": {
        "id": "xU50-LGC9hMg"
      },
      "source": [
        "import pandas as pd\n",
        "import preprocessor as p\n",
        "import re\n",
        "import string\n",
        "import seaborn as sns"
      ],
      "execution_count": null,
      "outputs": []
    },
    {
      "cell_type": "code",
      "metadata": {
        "id": "swZwlOiy9iUN"
      },
      "source": [
        "#data=pd.read_excel('training-Obama-Romney-tweets.xlsx',sheet_name='Obama')  \n",
        "DATAFILE = 'training-Obama-Romney-tweets.xlsx'\n",
        "df_obama = pd.read_excel(DATAFILE,sheet_name='Obama', header=None,index_col=None, usecols='B:F', \n",
        "                   skiprows=[0,1], names=['date','time','tweet','class','result'])\n",
        "print(df_obama)"
      ],
      "execution_count": null,
      "outputs": []
    },
    {
      "cell_type": "code",
      "metadata": {
        "id": "GjJqeHVY-FBH"
      },
      "source": [
        "#explore the data\n",
        "print(f'Number of variables - {df_obama.shape[1]}\\n')\n",
        "print(f'Data Types for each variable - \\n{df_obama.dtypes}\\n')\n",
        "print(f'Number of variables for each data type - \\n{df_obama.dtypes.value_counts()}')"
      ],
      "execution_count": null,
      "outputs": []
    },
    {
      "cell_type": "code",
      "metadata": {
        "id": "QxO2gWij-I7P"
      },
      "source": [
        "sns.countplot(x = 'class', data = df_obama)"
      ],
      "execution_count": null,
      "outputs": []
    },
    {
      "cell_type": "code",
      "metadata": {
        "id": "SLFDwu4F-Vtb"
      },
      "source": [
        "df_obama['tweet'] = df_obama['tweet'].apply(lambda _: str(_))\n",
        "df_obama.info()"
      ],
      "execution_count": null,
      "outputs": []
    },
    {
      "cell_type": "code",
      "metadata": {
        "id": "DpMiQ0LKAVLm"
      },
      "source": [
        "df_obama.head(10)"
      ],
      "execution_count": null,
      "outputs": []
    },
    {
      "cell_type": "code",
      "metadata": {
        "id": "FaJNbUowCRil"
      },
      "source": [
        "#Basic cleaning using tweet-preprocessor\n",
        "df_obama['tweet'] = df_obama['tweet'].apply(lambda x: p.clean(x))\n",
        "df_obama.head(10)"
      ],
      "execution_count": null,
      "outputs": []
    },
    {
      "cell_type": "code",
      "metadata": {
        "id": "MFRw1oCK-bBt"
      },
      "source": [
        "#removing the html tags\n",
        "df_obama['tweet'] = df_obama['tweet'].apply(lambda x: re.sub(re.compile('<[^>]+>'), '', x))\n",
        "df_obama.head(10)"
      ],
      "execution_count": null,
      "outputs": []
    },
    {
      "cell_type": "code",
      "metadata": {
        "id": "WXU7PphV-LaF"
      },
      "source": [
        "#removing the extra puncations\n",
        "df_obama['tweet'] = df_obama['tweet'].apply(lambda x: re.sub('[0-9]+', '', \"\".join([char for char in x if char not in string.punctuation])))\n",
        "df_obama.head(10)"
      ],
      "execution_count": null,
      "outputs": []
    },
    {
      "cell_type": "code",
      "metadata": {
        "id": "joYqs5b-zElX"
      },
      "source": [
        "#Basic cleaning using tweet-preprocessor\n",
        "df_obama['tweet'] = df_obama['tweet'].apply(lambda x: p.tokenize(x))\n",
        "df_obama.head(10)"
      ],
      "execution_count": null,
      "outputs": []
    }
  ]
}