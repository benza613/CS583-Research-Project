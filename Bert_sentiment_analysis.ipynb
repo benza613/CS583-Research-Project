{
 "cells": [
  {
   "cell_type": "code",
   "execution_count": null,
   "metadata": {
    "colab": {
     "base_uri": "https://localhost:8080/"
    },
    "id": "1ImVN7i0JCHO",
    "outputId": "840aef5c-3a3c-46a3-ae9e-d9c027b6d2a5"
   },
   "outputs": [],
   "source": [
    "!pip install -qq transformers\n"
   ]
  },
  {
   "cell_type": "code",
   "execution_count": 1,
   "metadata": {
    "id": "Gh6CxmCAJ5zz"
   },
   "outputs": [],
   "source": [
    "from transformers import BertModel, BertTokenizer, AdamW, get_linear_schedule_with_warmup\n",
    "import torch\n",
    "\n",
    "import numpy as np\n",
    "import pandas as pd\n",
    "import seaborn as sns\n",
    "from pylab import rcParams\n",
    "import matplotlib.pyplot as plt\n",
    "from matplotlib import rc\n",
    "from sklearn.model_selection import train_test_split\n",
    "from sklearn.metrics import confusion_matrix, classification_report\n",
    "from collections import defaultdict\n",
    "from textwrap import wrap\n",
    "\n",
    "from torch import nn, optim\n",
    "from torch.utils.data import Dataset, DataLoader\n",
    "import torch.nn.functional as F\n"
   ]
  },
  {
   "cell_type": "code",
   "execution_count": 2,
   "metadata": {
    "colab": {
     "base_uri": "https://localhost:8080/"
    },
    "id": "KoF8sxYlKAuv",
    "outputId": "77204db9-f96e-4493-f8c4-895b2632dc72"
   },
   "outputs": [
    {
     "data": {
      "text/plain": [
       "device(type='cuda', index=0)"
      ]
     },
     "execution_count": 2,
     "metadata": {},
     "output_type": "execute_result"
    }
   ],
   "source": [
    "\n",
    "%matplotlib inline\n",
    "%config InlineBackend.figure_format='retina'\n",
    "\n",
    "sns.set(style='whitegrid', palette='muted', font_scale=1.2)\n",
    "\n",
    "HAPPY_COLORS_PALETTE = [\"#01BEFE\", \"#FFDD00\", \"#FF7D00\", \"#FF006D\", \"#ADFF02\", \"#8F00FF\"]\n",
    "\n",
    "sns.set_palette(sns.color_palette(HAPPY_COLORS_PALETTE))\n",
    "\n",
    "rcParams['figure.figsize'] = 12, 8\n",
    "\n",
    "RANDOM_SEED = 42\n",
    "np.random.seed(RANDOM_SEED)\n",
    "torch.manual_seed(RANDOM_SEED)\n",
    "\n",
    "device = torch.device(\"cuda:0\" if torch.cuda.is_available() else \"cpu\")\n",
    "device"
   ]
  },
  {
   "cell_type": "code",
   "execution_count": null,
   "metadata": {
    "colab": {
     "base_uri": "https://localhost:8080/"
    },
    "id": "qBACtv9VNYJ_",
    "outputId": "27ed2c38-c38f-43be-df94-0f030de45d76"
   },
   "outputs": [],
   "source": [
    "from google.colab import drive\n",
    "drive.mount('/content/drive')"
   ]
  },
  {
   "cell_type": "code",
   "execution_count": 13,
   "metadata": {
    "colab": {
     "base_uri": "https://localhost:8080/"
    },
    "id": "itIC_N27Nu4g",
    "outputId": "774f4fbb-12b2-4379-ee8f-764c6e86e749"
   },
   "outputs": [
    {
     "name": "stdout",
     "output_type": "stream",
     "text": [
      " Volume in drive C has no label.\n",
      " Volume Serial Number is 2E3C-EA4F\n",
      "\n",
      " Directory of C:\\Users\\benza-ord\\source\\repos\\CS583-Research-Project\n",
      "\n",
      "12/02/2020  09:03 AM    <DIR>          .\n",
      "12/02/2020  09:03 AM    <DIR>          ..\n",
      "12/02/2020  12:00 AM    <DIR>          .ipynb_checkpoints\n",
      "12/01/2020  07:33 AM    <DIR>          .vscode\n",
      "12/02/2020  03:55 AM           190,248 Bert_sentiment_analysis.ipynb\n",
      "11/28/2020  08:24 AM         3,675,260 cxs583_cleaned_file_v2.csv\n",
      "12/02/2020  09:03 AM           605,871 cxs583_TESTDATA_OBAMA_cleaned.csv\n",
      "12/02/2020  09:03 AM           565,322 cxs583_TESTDATA_ROMNEY_cleaned.csv\n",
      "11/29/2020  07:36 AM            17,169 DataPre_processing.ipynb\n",
      "11/29/2020  07:36 AM            35,823 LICENSE\n",
      "12/01/2020  11:46 PM             6,396 LSTM.ipynb\n",
      "12/01/2020  07:33 AM             9,225 ML_models.ipynb\n",
      "12/02/2020  02:38 AM    <DIR>          models\n",
      "12/02/2020  02:29 AM             9,520 obama.txt\n",
      "12/02/2020  03:55 AM             4,656 obama_bert.txt\n",
      "12/02/2020  08:43 AM           189,930 Obama-tweets(1).xlsx\n",
      "12/02/2020  12:00 AM           106,205 preprocessing_tweets.ipynb\n",
      "11/29/2020  07:36 AM               822 README.md\n",
      "11/03/2020  07:04 PM               328 referenc.txt\n",
      "12/02/2020  08:43 AM           160,287 Romney-tweets(1).xlsx\n",
      "              15 File(s)      5,577,062 bytes\n",
      "               5 Dir(s)  344,971,968,512 bytes free\n"
     ]
    }
   ],
   "source": [
    "# set working directory -> you must set the path into which you have uploaded the data file\n",
    "# this is required in the case of colab\n",
    "#%cd /content/drive/My\\ Drive/DMTM/Research Project\n",
    "%ls"
   ]
  },
  {
   "cell_type": "code",
   "execution_count": 3,
   "metadata": {
    "colab": {
     "base_uri": "https://localhost:8080/",
     "height": 206
    },
    "id": "AIBCiNubNSjU",
    "outputId": "aacbea76-6dc2-4ec0-dec9-f0895f6cc72a"
   },
   "outputs": [
    {
     "data": {
      "text/html": [
       "<div>\n",
       "<style scoped>\n",
       "    .dataframe tbody tr th:only-of-type {\n",
       "        vertical-align: middle;\n",
       "    }\n",
       "\n",
       "    .dataframe tbody tr th {\n",
       "        vertical-align: top;\n",
       "    }\n",
       "\n",
       "    .dataframe thead th {\n",
       "        text-align: right;\n",
       "    }\n",
       "</style>\n",
       "<table border=\"1\" class=\"dataframe\">\n",
       "  <thead>\n",
       "    <tr style=\"text-align: right;\">\n",
       "      <th></th>\n",
       "      <th>date</th>\n",
       "      <th>time</th>\n",
       "      <th>tweet</th>\n",
       "      <th>class</th>\n",
       "      <th>result</th>\n",
       "      <th>tweet_length</th>\n",
       "      <th>tweet_cleaned</th>\n",
       "      <th>tweet_clst</th>\n",
       "    </tr>\n",
       "  </thead>\n",
       "  <tbody>\n",
       "    <tr>\n",
       "      <th>0</th>\n",
       "      <td>2012-10-16 00:00:00</td>\n",
       "      <td>10:28:53-05:00</td>\n",
       "      <td>Kirkpatrick, who wore a baseball cap embroider...</td>\n",
       "      <td>0</td>\n",
       "      <td>NaN</td>\n",
       "      <td>136</td>\n",
       "      <td>['Kirkpatrick', 'wear', 'baseball', 'cap', 'em...</td>\n",
       "      <td>Kirkpatrick who wore a baseball cap embroidere...</td>\n",
       "    </tr>\n",
       "    <tr>\n",
       "      <th>1</th>\n",
       "      <td>2012-10-16 00:00:00</td>\n",
       "      <td>10:04:30-05:00</td>\n",
       "      <td>#&lt;e&gt;obama&lt;/e&gt; debates that Cracker Ass Cracker...</td>\n",
       "      <td>1</td>\n",
       "      <td>NaN</td>\n",
       "      <td>88</td>\n",
       "      <td>['obama', 'debate', 'Cracker', 'Ass', 'Cracker...</td>\n",
       "      <td>obama debates that Cracker Ass Cracker tonight...</td>\n",
       "    </tr>\n",
       "    <tr>\n",
       "      <th>2</th>\n",
       "      <td>2012-10-16 00:00:00</td>\n",
       "      <td>09:50:08-05:00</td>\n",
       "      <td>@Hollivan @hereistheanswer  Youre missing the ...</td>\n",
       "      <td>0</td>\n",
       "      <td>NaN</td>\n",
       "      <td>140</td>\n",
       "      <td>['Hollivan', 'hereistheanswer', 'Youre', 'miss...</td>\n",
       "      <td>Hollivan hereistheanswer Youre missing the poi...</td>\n",
       "    </tr>\n",
       "    <tr>\n",
       "      <th>3</th>\n",
       "      <td>2012-10-16 00:00:00</td>\n",
       "      <td>10:00:16-05:00</td>\n",
       "      <td>I was raised as a Democrat  left the party yea...</td>\n",
       "      <td>-1</td>\n",
       "      <td>NaN</td>\n",
       "      <td>146</td>\n",
       "      <td>['raise', 'Democrat', 'leave', 'party', 'years...</td>\n",
       "      <td>I was raised as a Democrat left the party year...</td>\n",
       "    </tr>\n",
       "    <tr>\n",
       "      <th>4</th>\n",
       "      <td>2012-10-16 00:00:00</td>\n",
       "      <td>09:48:07-05:00</td>\n",
       "      <td>The &lt;e&gt;Obama camp&lt;/e&gt; can't afford to lower ex...</td>\n",
       "      <td>0</td>\n",
       "      <td>NaN</td>\n",
       "      <td>124</td>\n",
       "      <td>['Obama', 'camp', 'ca', 'afford', 'lower', 'ex...</td>\n",
       "      <td>The Obama camp ca n't afford to lower expectat...</td>\n",
       "    </tr>\n",
       "  </tbody>\n",
       "</table>\n",
       "</div>"
      ],
      "text/plain": [
       "                  date            time  \\\n",
       "0  2012-10-16 00:00:00  10:28:53-05:00   \n",
       "1  2012-10-16 00:00:00  10:04:30-05:00   \n",
       "2  2012-10-16 00:00:00  09:50:08-05:00   \n",
       "3  2012-10-16 00:00:00  10:00:16-05:00   \n",
       "4  2012-10-16 00:00:00  09:48:07-05:00   \n",
       "\n",
       "                                               tweet  class  result  \\\n",
       "0  Kirkpatrick, who wore a baseball cap embroider...      0     NaN   \n",
       "1  #<e>obama</e> debates that Cracker Ass Cracker...      1     NaN   \n",
       "2  @Hollivan @hereistheanswer  Youre missing the ...      0     NaN   \n",
       "3  I was raised as a Democrat  left the party yea...     -1     NaN   \n",
       "4  The <e>Obama camp</e> can't afford to lower ex...      0     NaN   \n",
       "\n",
       "   tweet_length                                      tweet_cleaned  \\\n",
       "0           136  ['Kirkpatrick', 'wear', 'baseball', 'cap', 'em...   \n",
       "1            88  ['obama', 'debate', 'Cracker', 'Ass', 'Cracker...   \n",
       "2           140  ['Hollivan', 'hereistheanswer', 'Youre', 'miss...   \n",
       "3           146  ['raise', 'Democrat', 'leave', 'party', 'years...   \n",
       "4           124  ['Obama', 'camp', 'ca', 'afford', 'lower', 'ex...   \n",
       "\n",
       "                                          tweet_clst  \n",
       "0  Kirkpatrick who wore a baseball cap embroidere...  \n",
       "1  obama debates that Cracker Ass Cracker tonight...  \n",
       "2  Hollivan hereistheanswer Youre missing the poi...  \n",
       "3  I was raised as a Democrat left the party year...  \n",
       "4  The Obama camp ca n't afford to lower expectat...  "
      ]
     },
     "execution_count": 3,
     "metadata": {},
     "output_type": "execute_result"
    }
   ],
   "source": [
    "df = pd.read_csv(\"cxs583_cleaned_file_v2.csv\")\n",
    "df.head()"
   ]
  },
  {
   "cell_type": "code",
   "execution_count": 4,
   "metadata": {
    "colab": {
     "base_uri": "https://localhost:8080/"
    },
    "id": "wc579cYOPeam",
    "outputId": "0dcde3e4-b224-422b-96c3-77cc35e8afc7"
   },
   "outputs": [
    {
     "data": {
      "text/plain": [
       "(11273, 8)"
      ]
     },
     "execution_count": 4,
     "metadata": {},
     "output_type": "execute_result"
    }
   ],
   "source": [
    "df.shape"
   ]
  },
  {
   "cell_type": "code",
   "execution_count": 4,
   "metadata": {
    "colab": {
     "base_uri": "https://localhost:8080/",
     "height": 581
    },
    "id": "8mndkG5YPngs",
    "outputId": "17b9cac5-4e8e-421f-8968-da5797a74855"
   },
   "outputs": [
    {
     "name": "stderr",
     "output_type": "stream",
     "text": [
      "Truncation was not explicitly activated but `max_length` is provided a specific value, please use `truncation=True` to explicitly truncate examples to max length. Defaulting to 'longest_first' truncation strategy. If you encode pairs of sequences (GLUE-style) with the tokenizer you can select this strategy more precisely by providing a specific strategy to `truncation`.\n",
      "C:\\Users\\benza-ord\\anaconda3\\envs\\keras-gpu\\lib\\site-packages\\seaborn\\distributions.py:2551: FutureWarning: `distplot` is a deprecated function and will be removed in a future version. Please adapt your code to use either `displot` (a figure-level function with similar flexibility) or `histplot` (an axes-level function for histograms).\n",
      "  warnings.warn(msg, FutureWarning)\n"
     ]
    },
    {
     "data": {
      "image/png": "[encoded data removed]",
      "text/plain": [
       "<Figure size 864x576 with 1 Axes>"
      ]
     },
     "metadata": {
      "image/png": {
       "height": 488,
       "width": 737
      }
     },
     "output_type": "display_data"
    }
   ],
   "source": [
    "PRE_TRAINED_MODEL_NAME = 'bert-base-cased'\n",
    "tokenizer = BertTokenizer.from_pretrained(PRE_TRAINED_MODEL_NAME)\n",
    "\n",
    "token_lens = []\n",
    "\n",
    "def convert_sentiment_score(y):\n",
    "  y = int(y)\n",
    "  return y+1\n",
    "\n",
    "df['sentiment'] = df['class'].apply(convert_sentiment_score)\n",
    "\n",
    "df['tweet_clst'] = df['tweet_clst'].astype(str)\n",
    "\n",
    "for txt in df['tweet_clst']:\n",
    "  tokens = tokenizer.encode(txt, max_length=512)\n",
    "  token_lens.append(len(tokens))\n",
    "\n",
    "sns.distplot(token_lens)\n",
    "plt.xlim([0, 256]);\n",
    "plt.xlabel('Token count');"
   ]
  },
  {
   "cell_type": "code",
   "execution_count": 6,
   "metadata": {
    "colab": {
     "base_uri": "https://localhost:8080/",
     "height": 206
    },
    "id": "u1W-ueYfUZT2",
    "outputId": "745ec446-ddbd-4f4b-f1e2-7cda675fcb57"
   },
   "outputs": [
    {
     "data": {
      "text/html": [
       "<div>\n",
       "<style scoped>\n",
       "    .dataframe tbody tr th:only-of-type {\n",
       "        vertical-align: middle;\n",
       "    }\n",
       "\n",
       "    .dataframe tbody tr th {\n",
       "        vertical-align: top;\n",
       "    }\n",
       "\n",
       "    .dataframe thead th {\n",
       "        text-align: right;\n",
       "    }\n",
       "</style>\n",
       "<table border=\"1\" class=\"dataframe\">\n",
       "  <thead>\n",
       "    <tr style=\"text-align: right;\">\n",
       "      <th></th>\n",
       "      <th>date</th>\n",
       "      <th>time</th>\n",
       "      <th>tweet</th>\n",
       "      <th>class</th>\n",
       "      <th>result</th>\n",
       "      <th>tweet_length</th>\n",
       "      <th>tweet_cleaned</th>\n",
       "      <th>tweet_clst</th>\n",
       "      <th>sentiment</th>\n",
       "    </tr>\n",
       "  </thead>\n",
       "  <tbody>\n",
       "    <tr>\n",
       "      <th>0</th>\n",
       "      <td>2012-10-16 00:00:00</td>\n",
       "      <td>10:28:53-05:00</td>\n",
       "      <td>Kirkpatrick, who wore a baseball cap embroider...</td>\n",
       "      <td>0</td>\n",
       "      <td>NaN</td>\n",
       "      <td>136</td>\n",
       "      <td>['Kirkpatrick', 'wear', 'baseball', 'cap', 'em...</td>\n",
       "      <td>Kirkpatrick who wore a baseball cap embroidere...</td>\n",
       "      <td>1</td>\n",
       "    </tr>\n",
       "    <tr>\n",
       "      <th>1</th>\n",
       "      <td>2012-10-16 00:00:00</td>\n",
       "      <td>10:04:30-05:00</td>\n",
       "      <td>#&lt;e&gt;obama&lt;/e&gt; debates that Cracker Ass Cracker...</td>\n",
       "      <td>1</td>\n",
       "      <td>NaN</td>\n",
       "      <td>88</td>\n",
       "      <td>['obama', 'debate', 'Cracker', 'Ass', 'Cracker...</td>\n",
       "      <td>obama debates that Cracker Ass Cracker tonight...</td>\n",
       "      <td>2</td>\n",
       "    </tr>\n",
       "    <tr>\n",
       "      <th>2</th>\n",
       "      <td>2012-10-16 00:00:00</td>\n",
       "      <td>09:50:08-05:00</td>\n",
       "      <td>@Hollivan @hereistheanswer  Youre missing the ...</td>\n",
       "      <td>0</td>\n",
       "      <td>NaN</td>\n",
       "      <td>140</td>\n",
       "      <td>['Hollivan', 'hereistheanswer', 'Youre', 'miss...</td>\n",
       "      <td>Hollivan hereistheanswer Youre missing the poi...</td>\n",
       "      <td>1</td>\n",
       "    </tr>\n",
       "    <tr>\n",
       "      <th>3</th>\n",
       "      <td>2012-10-16 00:00:00</td>\n",
       "      <td>10:00:16-05:00</td>\n",
       "      <td>I was raised as a Democrat  left the party yea...</td>\n",
       "      <td>-1</td>\n",
       "      <td>NaN</td>\n",
       "      <td>146</td>\n",
       "      <td>['raise', 'Democrat', 'leave', 'party', 'years...</td>\n",
       "      <td>I was raised as a Democrat left the party year...</td>\n",
       "      <td>0</td>\n",
       "    </tr>\n",
       "    <tr>\n",
       "      <th>4</th>\n",
       "      <td>2012-10-16 00:00:00</td>\n",
       "      <td>09:48:07-05:00</td>\n",
       "      <td>The &lt;e&gt;Obama camp&lt;/e&gt; can't afford to lower ex...</td>\n",
       "      <td>0</td>\n",
       "      <td>NaN</td>\n",
       "      <td>124</td>\n",
       "      <td>['Obama', 'camp', 'ca', 'afford', 'lower', 'ex...</td>\n",
       "      <td>The Obama camp ca n't afford to lower expectat...</td>\n",
       "      <td>1</td>\n",
       "    </tr>\n",
       "  </tbody>\n",
       "</table>\n",
       "</div>"
      ],
      "text/plain": [
       "                  date            time  \\\n",
       "0  2012-10-16 00:00:00  10:28:53-05:00   \n",
       "1  2012-10-16 00:00:00  10:04:30-05:00   \n",
       "2  2012-10-16 00:00:00  09:50:08-05:00   \n",
       "3  2012-10-16 00:00:00  10:00:16-05:00   \n",
       "4  2012-10-16 00:00:00  09:48:07-05:00   \n",
       "\n",
       "                                               tweet  class  result  \\\n",
       "0  Kirkpatrick, who wore a baseball cap embroider...      0     NaN   \n",
       "1  #<e>obama</e> debates that Cracker Ass Cracker...      1     NaN   \n",
       "2  @Hollivan @hereistheanswer  Youre missing the ...      0     NaN   \n",
       "3  I was raised as a Democrat  left the party yea...     -1     NaN   \n",
       "4  The <e>Obama camp</e> can't afford to lower ex...      0     NaN   \n",
       "\n",
       "   tweet_length                                      tweet_cleaned  \\\n",
       "0           136  ['Kirkpatrick', 'wear', 'baseball', 'cap', 'em...   \n",
       "1            88  ['obama', 'debate', 'Cracker', 'Ass', 'Cracker...   \n",
       "2           140  ['Hollivan', 'hereistheanswer', 'Youre', 'miss...   \n",
       "3           146  ['raise', 'Democrat', 'leave', 'party', 'years...   \n",
       "4           124  ['Obama', 'camp', 'ca', 'afford', 'lower', 'ex...   \n",
       "\n",
       "                                          tweet_clst  sentiment  \n",
       "0  Kirkpatrick who wore a baseball cap embroidere...          1  \n",
       "1  obama debates that Cracker Ass Cracker tonight...          2  \n",
       "2  Hollivan hereistheanswer Youre missing the poi...          1  \n",
       "3  I was raised as a Democrat left the party year...          0  \n",
       "4  The Obama camp ca n't afford to lower expectat...          1  "
      ]
     },
     "execution_count": 6,
     "metadata": {},
     "output_type": "execute_result"
    }
   ],
   "source": [
    "df.head()"
   ]
  },
  {
   "cell_type": "code",
   "execution_count": 5,
   "metadata": {
    "id": "3ZBDFRdVRKy4"
   },
   "outputs": [],
   "source": [
    "# most of the tweets do not have more than 50 chars\n",
    "MAX_LEN = 75\n",
    "\n",
    "# split 90-10 train-test\n",
    "df_train, df_test = train_test_split(df, test_size=0.1, random_state=RANDOM_SEED)\n",
    "# split test into 50-50 val-test\n",
    "df_val, df_test = train_test_split(df_test, test_size=0.5, random_state=RANDOM_SEED)"
   ]
  },
  {
   "cell_type": "code",
   "execution_count": 7,
   "metadata": {
    "colab": {
     "base_uri": "https://localhost:8080/"
    },
    "id": "TBvGhNbARw4w",
    "outputId": "32531c3c-30cd-4353-f122-36aec09895a0"
   },
   "outputs": [
    {
     "data": {
      "text/plain": [
       "((10145, 9), (564, 9), (564, 9))"
      ]
     },
     "execution_count": 7,
     "metadata": {},
     "output_type": "execute_result"
    }
   ],
   "source": [
    "df_train.shape, df_val.shape, df_test.shape"
   ]
  },
  {
   "cell_type": "code",
   "execution_count": 27,
   "metadata": {
    "id": "S5JFcREASM_E"
   },
   "outputs": [],
   "source": [
    "class GPReviewDataset(Dataset):\n",
    "\n",
    "  def __init__(self, reviews, targets, tokenizer, max_len):\n",
    "    self.reviews = reviews\n",
    "    self.targets = targets\n",
    "    self.tokenizer = tokenizer\n",
    "    self.max_len = max_len\n",
    "  \n",
    "  def __len__(self):\n",
    "    return len(self.reviews)\n",
    "  \n",
    "  def __getitem__(self, item):\n",
    "    review = str(self.reviews[item])\n",
    "    target = self.targets[item]\n",
    "\n",
    "    encoding = self.tokenizer.encode_plus(\n",
    "      review,\n",
    "      add_special_tokens=True,\n",
    "      max_length=self.max_len,\n",
    "      return_token_type_ids=False,\n",
    "      pad_to_max_length=True,\n",
    "      return_attention_mask=True,\n",
    "      return_tensors='pt',\n",
    "    )\n",
    "\n",
    "    return {\n",
    "      'review_text': review,\n",
    "      'input_ids': encoding['input_ids'].flatten(),\n",
    "      'attention_mask': encoding['attention_mask'].flatten(),\n",
    "      'targets': torch.tensor(target, dtype=torch.long)\n",
    "    }"
   ]
  },
  {
   "cell_type": "code",
   "execution_count": 28,
   "metadata": {
    "id": "KvlCbzfER185"
   },
   "outputs": [],
   "source": [
    "# create a couple of data loaders\n",
    "def create_data_loader(df, tokenizer, max_len, batch_size):\n",
    "  ds = GPReviewDataset(\n",
    "    reviews=df['tweet_clst'].to_numpy(),\n",
    "    targets=df['sentiment'].to_numpy(),\n",
    "    tokenizer=tokenizer,\n",
    "    max_len=max_len\n",
    "  )\n",
    "\n",
    "  return DataLoader(\n",
    "    ds,\n",
    "    batch_size=batch_size\n",
    "  )"
   ]
  },
  {
   "cell_type": "code",
   "execution_count": 8,
   "metadata": {
    "id": "2mkCG3tqR12B"
   },
   "outputs": [],
   "source": [
    "BATCH_SIZE = 10\n",
    "\n",
    "train_data_loader = create_data_loader(df_train, tokenizer, MAX_LEN, BATCH_SIZE)\n",
    "val_data_loader = create_data_loader(df_val, tokenizer, MAX_LEN, BATCH_SIZE)\n",
    "test_data_loader = create_data_loader(df_test, tokenizer, MAX_LEN, BATCH_SIZE)"
   ]
  },
  {
   "cell_type": "code",
   "execution_count": 14,
   "metadata": {
    "colab": {
     "base_uri": "https://localhost:8080/"
    },
    "id": "0B6eD9URViTn",
    "outputId": "1e6f3645-4654-4c1c-f980-0cfb4b0a3752"
   },
   "outputs": [
    {
     "data": {
      "text/plain": [
       "dict_keys(['review_text', 'input_ids', 'attention_mask', 'targets'])"
      ]
     },
     "execution_count": 14,
     "metadata": {},
     "output_type": "execute_result"
    }
   ],
   "source": [
    "data = next(iter(train_data_loader))\n",
    "data.keys()"
   ]
  },
  {
   "cell_type": "code",
   "execution_count": 15,
   "metadata": {
    "colab": {
     "base_uri": "https://localhost:8080/"
    },
    "id": "89T0oa5VVkgT",
    "outputId": "661f0958-cb73-4509-b1cd-781662c8cf55"
   },
   "outputs": [
    {
     "name": "stdout",
     "output_type": "stream",
     "text": [
      "torch.Size([10, 75])\n",
      "torch.Size([10, 75])\n",
      "tensor([2, 1, 2, 0, 1, 1, 0, 0, 1, 1])\n"
     ]
    }
   ],
   "source": [
    "print(data['input_ids'].shape)\n",
    "print(data['attention_mask'].shape)\n",
    "print(data['targets'])"
   ]
  },
  {
   "cell_type": "code",
   "execution_count": 9,
   "metadata": {
    "id": "O6o3qXooSfP6"
   },
   "outputs": [],
   "source": [
    "bert_model = BertModel.from_pretrained(PRE_TRAINED_MODEL_NAME)"
   ]
  },
  {
   "cell_type": "code",
   "execution_count": 10,
   "metadata": {
    "id": "OQnU20T1SucX"
   },
   "outputs": [],
   "source": [
    "class SentimentClassifier(nn.Module):\n",
    "\n",
    "  def __init__(self, n_classes):\n",
    "    super(SentimentClassifier, self).__init__()\n",
    "    self.bert = BertModel.from_pretrained(PRE_TRAINED_MODEL_NAME)\n",
    "    self.drop = nn.Dropout(p=0.3)\n",
    "    self.out = nn.Linear(self.bert.config.hidden_size, n_classes)\n",
    "  \n",
    "  def forward(self, input_ids, attention_mask):\n",
    "    _, pooled_output = self.bert(\n",
    "      input_ids=input_ids,\n",
    "      attention_mask=attention_mask\n",
    "    )\n",
    "    output = self.drop(pooled_output)\n",
    "    return self.out(output)\n",
    "\n",
    "class_names = [0, 1, 2]\n",
    "model = SentimentClassifier(len(class_names))\n",
    "model = model.to(device)"
   ]
  },
  {
   "cell_type": "code",
   "execution_count": 18,
   "metadata": {
    "id": "Za1DU6vGTGe8"
   },
   "outputs": [],
   "source": [
    "EPOCHS = 10\n",
    "\n",
    "optimizer = AdamW(model.parameters(), lr=2e-5, correct_bias=False)\n",
    "total_steps = len(train_data_loader) * EPOCHS\n",
    "\n",
    "scheduler = get_linear_schedule_with_warmup(\n",
    "  optimizer,\n",
    "  num_warmup_steps=0,\n",
    "  num_training_steps=total_steps\n",
    ")\n",
    "\n",
    "loss_fn = nn.CrossEntropyLoss().to(device)"
   ]
  },
  {
   "cell_type": "code",
   "execution_count": 19,
   "metadata": {
    "id": "cylryw8BTOiq"
   },
   "outputs": [],
   "source": [
    "def train_epoch(\n",
    "  model, \n",
    "  data_loader, \n",
    "  loss_fn, \n",
    "  optimizer, \n",
    "  device, \n",
    "  scheduler, \n",
    "  n_examples\n",
    "):\n",
    "  model = model.train()\n",
    "\n",
    "  losses = []\n",
    "  correct_predictions = 0\n",
    "  \n",
    "  #for d in data_loader:\n",
    "  for batch_idx, d in enumerate(data_loader):\n",
    "    if (batch_idx % 100 == 0):\n",
    "        print('BATCH ',batch_idx, len(data_loader))\n",
    "    input_ids = d[\"input_ids\"].to(device)\n",
    "    attention_mask = d[\"attention_mask\"].to(device)\n",
    "    targets = d[\"targets\"].to(device)\n",
    "\n",
    "    outputs = model(\n",
    "      input_ids=input_ids,\n",
    "      attention_mask=attention_mask\n",
    "    )\n",
    "\n",
    "    _, preds = torch.max(outputs, dim=1)\n",
    "    loss = loss_fn(outputs, targets)\n",
    "\n",
    "    correct_predictions += torch.sum(preds == targets)\n",
    "    losses.append(loss.item())\n",
    "\n",
    "    loss.backward()\n",
    "    nn.utils.clip_grad_norm_(model.parameters(), max_norm=1.0)\n",
    "    optimizer.step()\n",
    "    scheduler.step()\n",
    "    optimizer.zero_grad()\n",
    "\n",
    "  return correct_predictions.double() / n_examples, np.mean(losses)"
   ]
  },
  {
   "cell_type": "code",
   "execution_count": 20,
   "metadata": {
    "id": "D0y_asK6TVPb"
   },
   "outputs": [],
   "source": [
    "def eval_model(model, data_loader, loss_fn, device, n_examples):\n",
    "  model = model.eval()\n",
    "\n",
    "  losses = []\n",
    "  correct_predictions = 0\n",
    "\n",
    "  with torch.no_grad():\n",
    "    for d in data_loader:\n",
    "      input_ids = d[\"input_ids\"].to(device)\n",
    "      attention_mask = d[\"attention_mask\"].to(device)\n",
    "      targets = d[\"targets\"].to(device)\n",
    "\n",
    "      outputs = model(\n",
    "        input_ids=input_ids,\n",
    "        attention_mask=attention_mask\n",
    "      )\n",
    "      _, preds = torch.max(outputs, dim=1)\n",
    "\n",
    "      loss = loss_fn(outputs, targets)\n",
    "\n",
    "      correct_predictions += torch.sum(preds == targets)\n",
    "      losses.append(loss.item())\n",
    "\n",
    "  return correct_predictions.double() / n_examples, np.mean(losses)"
   ]
  },
  {
   "cell_type": "code",
   "execution_count": 21,
   "metadata": {
    "colab": {
     "base_uri": "https://localhost:8080/",
     "height": 675
    },
    "id": "qeOwlxpqTWUl",
    "outputId": "26ae649d-3b43-4b26-cc54-5f7e511d15b5"
   },
   "outputs": [
    {
     "name": "stdout",
     "output_type": "stream",
     "text": [
      "Epoch 1/10\n",
      "----------\n",
      "BATCH  0 1015\n",
      "BATCH  100 1015\n",
      "BATCH  200 1015\n",
      "BATCH  300 1015\n",
      "BATCH  400 1015\n",
      "BATCH  500 1015\n",
      "BATCH  600 1015\n",
      "BATCH  700 1015\n",
      "BATCH  800 1015\n",
      "BATCH  900 1015\n",
      "BATCH  1000 1015\n",
      "Train loss 0.9727434067596943 accuracy 0.5299162148841794\n",
      "Val   loss 0.8897199202002141 accuracy 0.6063829787234042\n",
      "\n",
      "Epoch 2/10\n",
      "----------\n",
      "BATCH  0 1015\n",
      "BATCH  100 1015\n",
      "BATCH  200 1015\n",
      "BATCH  300 1015\n",
      "BATCH  400 1015\n",
      "BATCH  500 1015\n",
      "BATCH  600 1015\n",
      "BATCH  700 1015\n",
      "BATCH  800 1015\n",
      "BATCH  900 1015\n",
      "BATCH  1000 1015\n",
      "Train loss 0.7173258544923049 accuracy 0.7035978314440612\n",
      "Val   loss 0.9487657912990504 accuracy 0.6347517730496454\n",
      "\n",
      "Epoch 3/10\n",
      "----------\n",
      "BATCH  0 1015\n",
      "BATCH  100 1015\n",
      "BATCH  200 1015\n",
      "BATCH  300 1015\n",
      "BATCH  400 1015\n",
      "BATCH  500 1015\n",
      "BATCH  600 1015\n",
      "BATCH  700 1015\n",
      "BATCH  800 1015\n",
      "BATCH  900 1015\n",
      "BATCH  1000 1015\n",
      "Train loss 0.5024588523276627 accuracy 0.8225726959093149\n",
      "Val   loss 1.2228287688472814 accuracy 0.625886524822695\n",
      "\n",
      "Epoch 4/10\n",
      "----------\n",
      "BATCH  0 1015\n",
      "BATCH  100 1015\n",
      "BATCH  200 1015\n",
      "BATCH  300 1015\n",
      "BATCH  400 1015\n",
      "BATCH  500 1015\n",
      "BATCH  600 1015\n",
      "BATCH  700 1015\n",
      "BATCH  800 1015\n",
      "BATCH  900 1015\n",
      "BATCH  1000 1015\n",
      "Train loss 0.35640876327086185 accuracy 0.8944307540660424\n",
      "Val   loss 1.6777000563186513 accuracy 0.624113475177305\n",
      "\n",
      "Epoch 5/10\n",
      "----------\n",
      "BATCH  0 1015\n",
      "BATCH  100 1015\n",
      "BATCH  200 1015\n",
      "BATCH  300 1015\n",
      "BATCH  400 1015\n",
      "BATCH  500 1015\n",
      "BATCH  600 1015\n",
      "BATCH  700 1015\n",
      "BATCH  800 1015\n",
      "BATCH  900 1015\n",
      "BATCH  1000 1015\n",
      "Train loss 0.27138705894596454 accuracy 0.9302119270576639\n",
      "Val   loss 1.993926029979137 accuracy 0.6471631205673759\n",
      "\n",
      "Epoch 6/10\n",
      "----------\n",
      "BATCH  0 1015\n",
      "BATCH  100 1015\n",
      "BATCH  200 1015\n",
      "BATCH  300 1015\n",
      "BATCH  400 1015\n",
      "BATCH  500 1015\n",
      "BATCH  600 1015\n",
      "BATCH  700 1015\n",
      "BATCH  800 1015\n",
      "BATCH  900 1015\n",
      "BATCH  1000 1015\n",
      "Train loss 0.21564186190420148 accuracy 0.952094627895515\n",
      "Val   loss 2.1442717585157145 accuracy 0.6312056737588653\n",
      "\n",
      "Epoch 7/10\n",
      "----------\n",
      "BATCH  0 1015\n",
      "BATCH  100 1015\n",
      "BATCH  200 1015\n",
      "BATCH  300 1015\n",
      "BATCH  400 1015\n",
      "BATCH  500 1015\n",
      "BATCH  600 1015\n",
      "BATCH  700 1015\n",
      "BATCH  800 1015\n",
      "BATCH  900 1015\n",
      "BATCH  1000 1015\n",
      "Train loss 0.15587065520804155 accuracy 0.9658945293247906\n",
      "Val   loss 2.0994845082362494 accuracy 0.652482269503546\n",
      "\n",
      "Epoch 8/10\n",
      "----------\n",
      "BATCH  0 1015\n",
      "BATCH  100 1015\n",
      "BATCH  200 1015\n",
      "BATCH  300 1015\n",
      "BATCH  400 1015\n",
      "BATCH  500 1015\n",
      "BATCH  600 1015\n",
      "BATCH  700 1015\n",
      "BATCH  800 1015\n",
      "BATCH  900 1015\n",
      "BATCH  1000 1015\n",
      "Train loss 0.13201928887039702 accuracy 0.9710202069985214\n",
      "Val   loss 2.277637345422255 accuracy 0.6382978723404256\n",
      "\n",
      "Epoch 9/10\n",
      "----------\n",
      "BATCH  0 1015\n",
      "BATCH  100 1015\n",
      "BATCH  200 1015\n",
      "BATCH  300 1015\n",
      "BATCH  400 1015\n",
      "BATCH  500 1015\n",
      "BATCH  600 1015\n",
      "BATCH  700 1015\n",
      "BATCH  800 1015\n",
      "BATCH  900 1015\n",
      "BATCH  1000 1015\n",
      "Train loss 0.1005995322780436 accuracy 0.976343026121242\n",
      "Val   loss 2.430996715172864 accuracy 0.6418439716312057\n",
      "\n",
      "Epoch 10/10\n",
      "----------\n",
      "BATCH  0 1015\n",
      "BATCH  100 1015\n",
      "BATCH  200 1015\n",
      "BATCH  300 1015\n",
      "BATCH  400 1015\n",
      "BATCH  500 1015\n",
      "BATCH  600 1015\n",
      "BATCH  700 1015\n",
      "BATCH  800 1015\n",
      "BATCH  900 1015\n",
      "BATCH  1000 1015\n",
      "Train loss 0.08439828967500657 accuracy 0.9816658452439626\n",
      "Val   loss 2.479339654067237 accuracy 0.6418439716312057\n",
      "\n",
      "Wall time: 36min 54s\n"
     ]
    }
   ],
   "source": [
    "%%time\n",
    "\n",
    "history = defaultdict(list)\n",
    "best_accuracy = 0\n",
    "\n",
    "for epoch in range(EPOCHS):\n",
    "    print(f'Epoch {epoch + 1}/{EPOCHS}')\n",
    "    print('-' * 10)\n",
    "  \n",
    "    train_acc, train_loss = train_epoch(\n",
    "    model,\n",
    "    train_data_loader,    \n",
    "    loss_fn, \n",
    "    optimizer, \n",
    "    device, \n",
    "    scheduler, \n",
    "    len(df_train)\n",
    "    )\n",
    "\n",
    "    print(f'Train loss {train_loss} accuracy {train_acc}')\n",
    "\n",
    "    val_acc, val_loss = eval_model(\n",
    "        model,\n",
    "        val_data_loader,\n",
    "        loss_fn, \n",
    "        device, \n",
    "        len(df_val)\n",
    "    )\n",
    "\n",
    "    print(f'Val   loss {val_loss} accuracy {val_acc}')\n",
    "    print()\n",
    "\n",
    "    history['train_acc'].append(train_acc)\n",
    "    history['train_loss'].append(train_loss)\n",
    "    history['val_acc'].append(val_acc)\n",
    "    history['val_loss'].append(val_loss)\n",
    "\n",
    "    if val_acc > best_accuracy:\n",
    "        torch.save(model, 'best_model.pt')\n",
    "        best_accuracy = val_acc"
   ]
  },
  {
   "cell_type": "code",
   "execution_count": null,
   "metadata": {},
   "outputs": [],
   "source": [
    "plt.plot(history['train_acc'], label='train accuracy')\n",
    "plt.plot(history['val_acc'], label='validation accuracy')\n",
    "\n",
    "plt.title('Training history')\n",
    "plt.ylabel('Accuracy')\n",
    "plt.xlabel('Epoch')\n",
    "plt.legend()\n",
    "plt.ylim([0, 1]);"
   ]
  },
  {
   "cell_type": "code",
   "execution_count": 22,
   "metadata": {},
   "outputs": [
    {
     "data": {
      "text/plain": [
       "0.6790780141843972"
      ]
     },
     "execution_count": 22,
     "metadata": {},
     "output_type": "execute_result"
    }
   ],
   "source": [
    "test_acc, _ = eval_model(\n",
    "  model,\n",
    "  test_data_loader,\n",
    "  loss_fn,\n",
    "  device,\n",
    "  len(df_test)\n",
    ")\n",
    "\n",
    "test_acc.item()"
   ]
  },
  {
   "cell_type": "code",
   "execution_count": 29,
   "metadata": {},
   "outputs": [],
   "source": [
    "def get_predictions(model, data_loader):\n",
    "  model = model.eval()\n",
    "  \n",
    "  review_texts = []\n",
    "  predictions = []\n",
    "  prediction_probs = []\n",
    "  real_values = []\n",
    "\n",
    "  with torch.no_grad():\n",
    "    for d in data_loader:\n",
    "\n",
    "      texts = d[\"review_text\"]\n",
    "      input_ids = d[\"input_ids\"].to(device)\n",
    "      attention_mask = d[\"attention_mask\"].to(device)\n",
    "      targets = d[\"targets\"].to(device)\n",
    "\n",
    "      outputs = model(\n",
    "        input_ids=input_ids,\n",
    "        attention_mask=attention_mask\n",
    "      )\n",
    "      _, preds = torch.max(outputs, dim=1)\n",
    "\n",
    "      probs = F.softmax(outputs, dim=1)\n",
    "\n",
    "      review_texts.extend(texts)\n",
    "      predictions.extend(preds)\n",
    "      prediction_probs.extend(probs)\n",
    "      real_values.extend(targets)\n",
    "\n",
    "  predictions = torch.stack(predictions).cpu()\n",
    "  prediction_probs = torch.stack(prediction_probs).cpu()\n",
    "  real_values = torch.stack(real_values).cpu()\n",
    "  return review_texts, predictions, prediction_probs, real_values"
   ]
  },
  {
   "cell_type": "code",
   "execution_count": 14,
   "metadata": {},
   "outputs": [],
   "source": [
    "\n",
    "model = torch.load('best_model.pt')"
   ]
  },
  {
   "cell_type": "code",
   "execution_count": 15,
   "metadata": {},
   "outputs": [
    {
     "name": "stderr",
     "output_type": "stream",
     "text": [
      "C:\\Users\\benza-ord\\anaconda3\\envs\\keras-gpu\\lib\\site-packages\\transformers\\tokenization_utils_base.py:2022: FutureWarning: The `pad_to_max_length` argument is deprecated and will be removed in a future version, use `padding=True` or `padding='longest'` to pad to the longest sequence in the batch, or use `padding='max_length'` to pad to a max length. In this case, you can give a specific length with `max_length` (e.g. `max_length=45`) or leave max_length to None to pad to the maximal input size of the model (e.g. 512 for Bert).\n",
      "  FutureWarning,\n"
     ]
    }
   ],
   "source": [
    "y_review_texts, y_pred, y_pred_probs, y_test = get_predictions(\n",
    "  model,\n",
    "  test_data_loader\n",
    ")"
   ]
  },
  {
   "cell_type": "code",
   "execution_count": 16,
   "metadata": {},
   "outputs": [
    {
     "data": {
      "text/html": [
       "<div>\n",
       "<style scoped>\n",
       "    .dataframe tbody tr th:only-of-type {\n",
       "        vertical-align: middle;\n",
       "    }\n",
       "\n",
       "    .dataframe tbody tr th {\n",
       "        vertical-align: top;\n",
       "    }\n",
       "\n",
       "    .dataframe thead th {\n",
       "        text-align: right;\n",
       "    }\n",
       "</style>\n",
       "<table border=\"1\" class=\"dataframe\">\n",
       "  <thead>\n",
       "    <tr style=\"text-align: right;\">\n",
       "      <th></th>\n",
       "      <th>id</th>\n",
       "      <th>tweet</th>\n",
       "      <th>tweet_length</th>\n",
       "      <th>tweet_cleaned</th>\n",
       "      <th>tweet_clst</th>\n",
       "    </tr>\n",
       "  </thead>\n",
       "  <tbody>\n",
       "    <tr>\n",
       "      <th>0</th>\n",
       "      <td>1</td>\n",
       "      <td>&lt;e&gt;Obama&lt;/e&gt; has to maintain his professionali...</td>\n",
       "      <td>106</td>\n",
       "      <td>['Obama', 'maintain', 'professionalism', 'thro...</td>\n",
       "      <td>Obama has to maintain his professionalism thro...</td>\n",
       "    </tr>\n",
       "    <tr>\n",
       "      <th>1</th>\n",
       "      <td>2</td>\n",
       "      <td>&lt;e&gt;Obama&lt;/e&gt; went into the debate swinging and...</td>\n",
       "      <td>101</td>\n",
       "      <td>['Obama', 'go', 'debate', 'swing', 'come', 'ba...</td>\n",
       "      <td>Obama went into the debate swinging and came o...</td>\n",
       "    </tr>\n",
       "    <tr>\n",
       "      <th>2</th>\n",
       "      <td>3</td>\n",
       "      <td>Ditto. I started @247LS 4 years ago. RT @bmorr...</td>\n",
       "      <td>146</td>\n",
       "      <td>['Ditto', 'start', 'years', 'ago', 'RT', 'bmor...</td>\n",
       "      <td>Ditto I started 247LS 4 years ago RT bmorrisse...</td>\n",
       "    </tr>\n",
       "    <tr>\n",
       "      <th>3</th>\n",
       "      <td>4</td>\n",
       "      <td>I absolutely love &lt;e&gt;Obama&lt;/e&gt;'s view in &lt;a&gt;im...</td>\n",
       "      <td>125</td>\n",
       "      <td>['absolutely', 'love', 'Obama', 'view', 'immig...</td>\n",
       "      <td>I absolutely love Obama 's view in immigration...</td>\n",
       "    </tr>\n",
       "    <tr>\n",
       "      <th>4</th>\n",
       "      <td>5</td>\n",
       "      <td>I'm agreeing completely with &lt;e&gt;Obama&lt;/e&gt;'s st...</td>\n",
       "      <td>132</td>\n",
       "      <td>['agree', 'completely', 'Obama', 'stance', 'im...</td>\n",
       "      <td>I 'm agreeing completely with Obama 's stance ...</td>\n",
       "    </tr>\n",
       "  </tbody>\n",
       "</table>\n",
       "</div>"
      ],
      "text/plain": [
       "   id                                              tweet  tweet_length  \\\n",
       "0   1  <e>Obama</e> has to maintain his professionali...           106   \n",
       "1   2  <e>Obama</e> went into the debate swinging and...           101   \n",
       "2   3  Ditto. I started @247LS 4 years ago. RT @bmorr...           146   \n",
       "3   4  I absolutely love <e>Obama</e>'s view in <a>im...           125   \n",
       "4   5  I'm agreeing completely with <e>Obama</e>'s st...           132   \n",
       "\n",
       "                                       tweet_cleaned  \\\n",
       "0  ['Obama', 'maintain', 'professionalism', 'thro...   \n",
       "1  ['Obama', 'go', 'debate', 'swing', 'come', 'ba...   \n",
       "2  ['Ditto', 'start', 'years', 'ago', 'RT', 'bmor...   \n",
       "3  ['absolutely', 'love', 'Obama', 'view', 'immig...   \n",
       "4  ['agree', 'completely', 'Obama', 'stance', 'im...   \n",
       "\n",
       "                                          tweet_clst  \n",
       "0  Obama has to maintain his professionalism thro...  \n",
       "1  Obama went into the debate swinging and came o...  \n",
       "2  Ditto I started 247LS 4 years ago RT bmorrisse...  \n",
       "3  I absolutely love Obama 's view in immigration...  \n",
       "4  I 'm agreeing completely with Obama 's stance ...  "
      ]
     },
     "execution_count": 16,
     "metadata": {},
     "output_type": "execute_result"
    }
   ],
   "source": [
    "df_test_obama = pd.read_csv(\"cxs583_TESTDATA_OBAMA_cleaned.csv\")\n",
    "df_test_obama.head()"
   ]
  },
  {
   "cell_type": "code",
   "execution_count": 17,
   "metadata": {},
   "outputs": [
    {
     "data": {
      "text/html": [
       "<div>\n",
       "<style scoped>\n",
       "    .dataframe tbody tr th:only-of-type {\n",
       "        vertical-align: middle;\n",
       "    }\n",
       "\n",
       "    .dataframe tbody tr th {\n",
       "        vertical-align: top;\n",
       "    }\n",
       "\n",
       "    .dataframe thead th {\n",
       "        text-align: right;\n",
       "    }\n",
       "</style>\n",
       "<table border=\"1\" class=\"dataframe\">\n",
       "  <thead>\n",
       "    <tr style=\"text-align: right;\">\n",
       "      <th></th>\n",
       "      <th>id</th>\n",
       "      <th>tweet</th>\n",
       "      <th>tweet_length</th>\n",
       "      <th>tweet_cleaned</th>\n",
       "      <th>tweet_clst</th>\n",
       "    </tr>\n",
       "  </thead>\n",
       "  <tbody>\n",
       "    <tr>\n",
       "      <th>0</th>\n",
       "      <td>1</td>\n",
       "      <td>&lt;e&gt;Romney&lt;/e&gt; got 3 less minutes and had to de...</td>\n",
       "      <td>103</td>\n",
       "      <td>['Romney', 'get', 'less', 'minutes', 'debate',...</td>\n",
       "      <td>Romney got 3 less minutes and had to debate Ca...</td>\n",
       "    </tr>\n",
       "    <tr>\n",
       "      <th>1</th>\n",
       "      <td>2</td>\n",
       "      <td>&lt;e&gt;Mitt  &lt;/e&gt;is beating him UP!  on his record...</td>\n",
       "      <td>79</td>\n",
       "      <td>['Mitt', 'beat', 'record', 'credibility', 'cha...</td>\n",
       "      <td>Mitt is beating him UP on his record on credib...</td>\n",
       "    </tr>\n",
       "    <tr>\n",
       "      <th>2</th>\n",
       "      <td>3</td>\n",
       "      <td>I actually like  &lt;e&gt;Romney &lt;/e&gt;'s response to ...</td>\n",
       "      <td>58</td>\n",
       "      <td>['actually', 'like', 'Romney', 'response', 'im...</td>\n",
       "      <td>I actually like Romney 's response to immigration</td>\n",
       "    </tr>\n",
       "    <tr>\n",
       "      <th>3</th>\n",
       "      <td>4</td>\n",
       "      <td>Just for that &lt;a&gt;immigration statement &lt;/a&gt;tha...</td>\n",
       "      <td>115</td>\n",
       "      <td>['immigration', 'statement', 'Romney', 'answer...</td>\n",
       "      <td>Just for that immigration statement that Romne...</td>\n",
       "    </tr>\n",
       "    <tr>\n",
       "      <th>4</th>\n",
       "      <td>5</td>\n",
       "      <td>This man  &lt;e&gt;Romney  &lt;/e&gt;is tearing this dude ...</td>\n",
       "      <td>68</td>\n",
       "      <td>['man', 'Romney', 'tear', 'dude', 'economics']</td>\n",
       "      <td>This man Romney is tearing this dude up on eco...</td>\n",
       "    </tr>\n",
       "  </tbody>\n",
       "</table>\n",
       "</div>"
      ],
      "text/plain": [
       "   id                                              tweet  tweet_length  \\\n",
       "0   1  <e>Romney</e> got 3 less minutes and had to de...           103   \n",
       "1   2  <e>Mitt  </e>is beating him UP!  on his record...            79   \n",
       "2   3  I actually like  <e>Romney </e>'s response to ...            58   \n",
       "3   4  Just for that <a>immigration statement </a>tha...           115   \n",
       "4   5  This man  <e>Romney  </e>is tearing this dude ...            68   \n",
       "\n",
       "                                       tweet_cleaned  \\\n",
       "0  ['Romney', 'get', 'less', 'minutes', 'debate',...   \n",
       "1  ['Mitt', 'beat', 'record', 'credibility', 'cha...   \n",
       "2  ['actually', 'like', 'Romney', 'response', 'im...   \n",
       "3  ['immigration', 'statement', 'Romney', 'answer...   \n",
       "4     ['man', 'Romney', 'tear', 'dude', 'economics']   \n",
       "\n",
       "                                          tweet_clst  \n",
       "0  Romney got 3 less minutes and had to debate Ca...  \n",
       "1  Mitt is beating him UP on his record on credib...  \n",
       "2  I actually like Romney 's response to immigration  \n",
       "3  Just for that immigration statement that Romne...  \n",
       "4  This man Romney is tearing this dude up on eco...  "
      ]
     },
     "execution_count": 17,
     "metadata": {},
     "output_type": "execute_result"
    }
   ],
   "source": [
    "df_test_romney = pd.read_csv(\"cxs583_TESTDATA_ROMNEY_cleaned.csv\")\n",
    "df_test_romney.head()"
   ]
  },
  {
   "cell_type": "code",
   "execution_count": 32,
   "metadata": {},
   "outputs": [
    {
     "data": {
      "text/html": [
       "<div>\n",
       "<style scoped>\n",
       "    .dataframe tbody tr th:only-of-type {\n",
       "        vertical-align: middle;\n",
       "    }\n",
       "\n",
       "    .dataframe tbody tr th {\n",
       "        vertical-align: top;\n",
       "    }\n",
       "\n",
       "    .dataframe thead th {\n",
       "        text-align: right;\n",
       "    }\n",
       "</style>\n",
       "<table border=\"1\" class=\"dataframe\">\n",
       "  <thead>\n",
       "    <tr style=\"text-align: right;\">\n",
       "      <th></th>\n",
       "      <th>id</th>\n",
       "      <th>tweet</th>\n",
       "      <th>tweet_length</th>\n",
       "      <th>tweet_cleaned</th>\n",
       "      <th>tweet_clst</th>\n",
       "      <th>sentiment</th>\n",
       "    </tr>\n",
       "  </thead>\n",
       "  <tbody>\n",
       "    <tr>\n",
       "      <th>0</th>\n",
       "      <td>1</td>\n",
       "      <td>&lt;e&gt;Romney&lt;/e&gt; got 3 less minutes and had to de...</td>\n",
       "      <td>103</td>\n",
       "      <td>['Romney', 'get', 'less', 'minutes', 'debate',...</td>\n",
       "      <td>Romney got 3 less minutes and had to debate Ca...</td>\n",
       "      <td>0</td>\n",
       "    </tr>\n",
       "    <tr>\n",
       "      <th>1</th>\n",
       "      <td>2</td>\n",
       "      <td>&lt;e&gt;Mitt  &lt;/e&gt;is beating him UP!  on his record...</td>\n",
       "      <td>79</td>\n",
       "      <td>['Mitt', 'beat', 'record', 'credibility', 'cha...</td>\n",
       "      <td>Mitt is beating him UP on his record on credib...</td>\n",
       "      <td>0</td>\n",
       "    </tr>\n",
       "    <tr>\n",
       "      <th>2</th>\n",
       "      <td>3</td>\n",
       "      <td>I actually like  &lt;e&gt;Romney &lt;/e&gt;'s response to ...</td>\n",
       "      <td>58</td>\n",
       "      <td>['actually', 'like', 'Romney', 'response', 'im...</td>\n",
       "      <td>I actually like Romney 's response to immigration</td>\n",
       "      <td>0</td>\n",
       "    </tr>\n",
       "    <tr>\n",
       "      <th>3</th>\n",
       "      <td>4</td>\n",
       "      <td>Just for that &lt;a&gt;immigration statement &lt;/a&gt;tha...</td>\n",
       "      <td>115</td>\n",
       "      <td>['immigration', 'statement', 'Romney', 'answer...</td>\n",
       "      <td>Just for that immigration statement that Romne...</td>\n",
       "      <td>0</td>\n",
       "    </tr>\n",
       "    <tr>\n",
       "      <th>4</th>\n",
       "      <td>5</td>\n",
       "      <td>This man  &lt;e&gt;Romney  &lt;/e&gt;is tearing this dude ...</td>\n",
       "      <td>68</td>\n",
       "      <td>['man', 'Romney', 'tear', 'dude', 'economics']</td>\n",
       "      <td>This man Romney is tearing this dude up on eco...</td>\n",
       "      <td>0</td>\n",
       "    </tr>\n",
       "  </tbody>\n",
       "</table>\n",
       "</div>"
      ],
      "text/plain": [
       "   id                                              tweet  tweet_length  \\\n",
       "0   1  <e>Romney</e> got 3 less minutes and had to de...           103   \n",
       "1   2  <e>Mitt  </e>is beating him UP!  on his record...            79   \n",
       "2   3  I actually like  <e>Romney </e>'s response to ...            58   \n",
       "3   4  Just for that <a>immigration statement </a>tha...           115   \n",
       "4   5  This man  <e>Romney  </e>is tearing this dude ...            68   \n",
       "\n",
       "                                       tweet_cleaned  \\\n",
       "0  ['Romney', 'get', 'less', 'minutes', 'debate',...   \n",
       "1  ['Mitt', 'beat', 'record', 'credibility', 'cha...   \n",
       "2  ['actually', 'like', 'Romney', 'response', 'im...   \n",
       "3  ['immigration', 'statement', 'Romney', 'answer...   \n",
       "4     ['man', 'Romney', 'tear', 'dude', 'economics']   \n",
       "\n",
       "                                          tweet_clst  sentiment  \n",
       "0  Romney got 3 less minutes and had to debate Ca...          0  \n",
       "1  Mitt is beating him UP on his record on credib...          0  \n",
       "2  I actually like Romney 's response to immigration          0  \n",
       "3  Just for that immigration statement that Romne...          0  \n",
       "4  This man Romney is tearing this dude up on eco...          0  "
      ]
     },
     "execution_count": 32,
     "metadata": {},
     "output_type": "execute_result"
    }
   ],
   "source": [
    "df_test_romney.head()"
   ]
  },
  {
   "cell_type": "code",
   "execution_count": 31,
   "metadata": {},
   "outputs": [],
   "source": [
    "df_test_romney['tweet_clst'] = df_test_romney['tweet_clst'].astype(str)\n",
    "df_test_obama['tweet_clst'] = df_test_obama['tweet_clst'].astype(str)\n",
    "\n",
    "df_test_romney['sentiment'] = 0\n",
    "df_test_obama['sentiment'] = 0"
   ]
  },
  {
   "cell_type": "code",
   "execution_count": 33,
   "metadata": {},
   "outputs": [
    {
     "name": "stderr",
     "output_type": "stream",
     "text": [
      "C:\\Users\\benza-ord\\anaconda3\\envs\\keras-gpu\\lib\\site-packages\\transformers\\tokenization_utils_base.py:2022: FutureWarning: The `pad_to_max_length` argument is deprecated and will be removed in a future version, use `padding=True` or `padding='longest'` to pad to the longest sequence in the batch, or use `padding='max_length'` to pad to a max length. In this case, you can give a specific length with `max_length` (e.g. `max_length=45`) or leave max_length to None to pad to the maximal input size of the model (e.g. 512 for Bert).\n",
      "  FutureWarning,\n"
     ]
    }
   ],
   "source": [
    "obama_test_data_loader = create_data_loader(df_test_obama, tokenizer, MAX_LEN, BATCH_SIZE)\n",
    "yo_review_texts, yo_pred, yo_pred_probs, yo_test = get_predictions(\n",
    "  model,\n",
    "  obama_test_data_loader\n",
    ")"
   ]
  },
  {
   "cell_type": "code",
   "execution_count": 34,
   "metadata": {},
   "outputs": [],
   "source": [
    "romney_test_data_loader = create_data_loader(df_test_romney, tokenizer, MAX_LEN, BATCH_SIZE)\n",
    "yr_review_texts, yr_pred, yr_pred_probs, yr_test = get_predictions(\n",
    "  model,\n",
    "  romney_test_data_loader\n",
    ")"
   ]
  },
  {
   "cell_type": "code",
   "execution_count": null,
   "metadata": {},
   "outputs": [],
   "source": []
  },
  {
   "cell_type": "code",
   "execution_count": 17,
   "metadata": {},
   "outputs": [
    {
     "name": "stdout",
     "output_type": "stream",
     "text": [
      "              precision    recall  f1-score   support\n",
      "\n",
      "    Negative       0.69      0.77      0.73       223\n",
      "     Neutral       0.65      0.65      0.65       183\n",
      "    Positive       0.75      0.62      0.68       158\n",
      "\n",
      "    accuracy                           0.69       564\n",
      "   macro avg       0.70      0.68      0.69       564\n",
      "weighted avg       0.69      0.69      0.69       564\n",
      "\n"
     ]
    }
   ],
   "source": [
    "print(classification_report(y_test, y_pred, target_names=[\"Negative\", \"Neutral\", \"Positive\"]))"
   ]
  },
  {
   "cell_type": "code",
   "execution_count": null,
   "metadata": {},
   "outputs": [],
   "source": []
  },
  {
   "cell_type": "code",
   "execution_count": 18,
   "metadata": {},
   "outputs": [
    {
     "data": {
      "image/png": "[encoded data removed]",
      "text/plain": [
       "<Figure size 864x576 with 2 Axes>"
      ]
     },
     "metadata": {
      "image/png": {
       "height": 513,
       "width": 716
      }
     },
     "output_type": "display_data"
    }
   ],
   "source": [
    "def show_confusion_matrix(confusion_matrix):\n",
    "  hmap = sns.heatmap(confusion_matrix, annot=True, fmt=\"d\", cmap=\"Blues\")\n",
    "  hmap.yaxis.set_ticklabels(hmap.yaxis.get_ticklabels(), rotation=0, ha='right')\n",
    "  hmap.xaxis.set_ticklabels(hmap.xaxis.get_ticklabels(), rotation=30, ha='right')\n",
    "  plt.ylabel('True sentiment')\n",
    "  plt.xlabel('Predicted sentiment');\n",
    "\n",
    "cm = confusion_matrix(y_test, y_pred)\n",
    "df_cm = pd.DataFrame(cm, index=[\"Negative\", \"Neutral\", \"Positive\"], columns=[\"Negative\", \"Neutral\", \"Positive\"])\n",
    "show_confusion_matrix(df_cm)"
   ]
  },
  {
   "cell_type": "code",
   "execution_count": 21,
   "metadata": {},
   "outputs": [
    {
     "data": {
      "text/plain": [
       "tensor([0, 0, 0, 2, 1, 1, 0, 0, 2, 1, 2, 1, 2, 1, 2, 1, 0, 0, 0, 0, 1, 1, 0, 1,\n",
       "        0, 1, 0, 2, 2, 1, 1, 1, 0, 2, 0, 2, 0, 2, 0, 2, 0, 0, 0, 0, 1, 0, 0, 2,\n",
       "        1, 0, 1, 0, 0, 0, 0, 1, 0, 0, 0, 2, 1, 1, 0, 2, 1, 0, 0, 2, 2, 0, 1, 0,\n",
       "        2, 1, 1, 2, 1, 2, 0, 0, 0, 1, 0, 0, 0, 1, 1, 2, 0, 1, 0, 1, 0, 0, 2, 0,\n",
       "        0, 0, 0, 1, 1, 0, 0, 0, 1, 0, 0, 2, 0, 1, 0, 0, 1, 1, 2, 0, 0, 2, 1, 1,\n",
       "        0, 2, 0, 2, 2, 0, 2, 2, 1, 1, 0, 0, 0, 2, 1, 2, 1, 1, 1, 0, 0, 2, 1, 2,\n",
       "        0, 0, 2, 0, 2, 0, 0, 0, 0, 0, 0, 2, 2, 0, 0, 0, 0, 1, 0, 2, 1, 2, 0, 2,\n",
       "        0, 1, 2, 1, 0, 0, 0, 0, 0, 0, 2, 0, 2, 2, 2, 0, 2, 1, 0, 2, 0, 0, 0, 0,\n",
       "        0, 0, 0, 0, 2, 1, 1, 1, 1, 2, 1, 1, 1, 2, 2, 1, 2, 0, 1, 2, 1, 2, 0, 0,\n",
       "        1, 1, 0, 0, 1, 0, 0, 1, 1, 2, 0, 0, 0, 1, 2, 2, 0, 2, 0, 1, 1, 0, 0, 0,\n",
       "        0, 2, 0, 2, 0, 0, 0, 0, 0, 2, 2, 1, 1, 2, 1, 0, 2, 0, 2, 1, 0, 0, 1, 2,\n",
       "        0, 2, 1, 0, 0, 0, 0, 1, 0, 2, 1, 1, 2, 2, 2, 1, 2, 2, 0, 0, 0, 1, 1, 0,\n",
       "        0, 0, 0, 2, 0, 1, 1, 1, 0, 2, 2, 0, 1, 1, 2, 1, 1, 1, 0, 0, 0, 0, 0, 2,\n",
       "        2, 1, 0, 1, 0, 1, 0, 1, 0, 0, 1, 2, 1, 0, 0, 1, 0, 0, 0, 2, 0, 2, 0, 1,\n",
       "        0, 0, 0, 0, 1, 0, 2, 0, 0, 2, 1, 1, 1, 1, 2, 1, 0, 1, 2, 0, 1, 0, 1, 0,\n",
       "        1, 1, 1, 2, 2, 2, 0, 2, 1, 2, 2, 0, 1, 0, 1, 1, 2, 2, 2, 1, 2, 2, 1, 2,\n",
       "        1, 0, 1, 0, 0, 1, 0, 1, 1, 2, 2, 2, 1, 2, 1, 0, 0, 0, 1, 0, 1, 1, 2, 2,\n",
       "        2, 0, 0, 0, 1, 2, 0, 2, 1, 1, 1, 2, 1, 1, 1, 2, 1, 0, 2, 2, 1, 0, 0, 1,\n",
       "        0, 0, 1, 1, 0, 0, 0, 0, 0, 1, 0, 1, 0, 1, 1, 1, 2, 1, 0, 1, 0, 0, 0, 1,\n",
       "        1, 1, 0, 1, 1, 2, 1, 2, 0, 0, 1, 1, 2, 0, 0, 0, 1, 1, 2, 2, 0, 0, 1, 0,\n",
       "        0, 1, 1, 2, 1, 1, 2, 0, 0, 1, 0, 0, 1, 2, 1, 0, 0, 0, 0, 0, 1, 0, 1, 0,\n",
       "        0, 1, 1, 1, 0, 1, 1, 0, 2, 0, 2, 1, 1, 0, 0, 0, 1, 2, 1, 0, 0, 2, 1, 2,\n",
       "        0, 2, 2, 0, 0, 0, 0, 1, 1, 2, 2, 0, 1, 1, 1, 1, 0, 1, 0, 0, 0, 1, 0, 2,\n",
       "        0, 2, 1, 1, 0, 0, 0, 0, 0, 0, 0, 1])"
      ]
     },
     "execution_count": 21,
     "metadata": {},
     "output_type": "execute_result"
    }
   ],
   "source": [
    "y_pred"
   ]
  },
  {
   "cell_type": "code",
   "execution_count": 22,
   "metadata": {},
   "outputs": [
    {
     "data": {
      "text/plain": [
       "tensor([-1, -1, -1,  1,  0,  0, -1, -1,  1,  0,  1,  0,  1,  0,  1,  0, -1, -1,\n",
       "        -1, -1,  0,  0, -1,  0, -1,  0, -1,  1,  1,  0,  0,  0, -1,  1, -1,  1,\n",
       "        -1,  1, -1,  1, -1, -1, -1, -1,  0, -1, -1,  1,  0, -1,  0, -1, -1, -1,\n",
       "        -1,  0, -1, -1, -1,  1,  0,  0, -1,  1,  0, -1, -1,  1,  1, -1,  0, -1,\n",
       "         1,  0,  0,  1,  0,  1, -1, -1, -1,  0, -1, -1, -1,  0,  0,  1, -1,  0,\n",
       "        -1,  0, -1, -1,  1, -1, -1, -1, -1,  0,  0, -1, -1, -1,  0, -1, -1,  1,\n",
       "        -1,  0, -1, -1,  0,  0,  1, -1, -1,  1,  0,  0, -1,  1, -1,  1,  1, -1,\n",
       "         1,  1,  0,  0, -1, -1, -1,  1,  0,  1,  0,  0,  0, -1, -1,  1,  0,  1,\n",
       "        -1, -1,  1, -1,  1, -1, -1, -1, -1, -1, -1,  1,  1, -1, -1, -1, -1,  0,\n",
       "        -1,  1,  0,  1, -1,  1, -1,  0,  1,  0, -1, -1, -1, -1, -1, -1,  1, -1,\n",
       "         1,  1,  1, -1,  1,  0, -1,  1, -1, -1, -1, -1, -1, -1, -1, -1,  1,  0,\n",
       "         0,  0,  0,  1,  0,  0,  0,  1,  1,  0,  1, -1,  0,  1,  0,  1, -1, -1,\n",
       "         0,  0, -1, -1,  0, -1, -1,  0,  0,  1, -1, -1, -1,  0,  1,  1, -1,  1,\n",
       "        -1,  0,  0, -1, -1, -1, -1,  1, -1,  1, -1, -1, -1, -1, -1,  1,  1,  0,\n",
       "         0,  1,  0, -1,  1, -1,  1,  0, -1, -1,  0,  1, -1,  1,  0, -1, -1, -1,\n",
       "        -1,  0, -1,  1,  0,  0,  1,  1,  1,  0,  1,  1, -1, -1, -1,  0,  0, -1,\n",
       "        -1, -1, -1,  1, -1,  0,  0,  0, -1,  1,  1, -1,  0,  0,  1,  0,  0,  0,\n",
       "        -1, -1, -1, -1, -1,  1,  1,  0, -1,  0, -1,  0, -1,  0, -1, -1,  0,  1,\n",
       "         0, -1, -1,  0, -1, -1, -1,  1, -1,  1, -1,  0, -1, -1, -1, -1,  0, -1,\n",
       "         1, -1, -1,  1,  0,  0,  0,  0,  1,  0, -1,  0,  1, -1,  0, -1,  0, -1,\n",
       "         0,  0,  0,  1,  1,  1, -1,  1,  0,  1,  1, -1,  0, -1,  0,  0,  1,  1,\n",
       "         1,  0,  1,  1,  0,  1,  0, -1,  0, -1, -1,  0, -1,  0,  0,  1,  1,  1,\n",
       "         0,  1,  0, -1, -1, -1,  0, -1,  0,  0,  1,  1,  1, -1, -1, -1,  0,  1,\n",
       "        -1,  1,  0,  0,  0,  1,  0,  0,  0,  1,  0, -1,  1,  1,  0, -1, -1,  0,\n",
       "        -1, -1,  0,  0, -1, -1, -1, -1, -1,  0, -1,  0, -1,  0,  0,  0,  1,  0,\n",
       "        -1,  0, -1, -1, -1,  0,  0,  0, -1,  0,  0,  1,  0,  1, -1, -1,  0,  0,\n",
       "         1, -1, -1, -1,  0,  0,  1,  1, -1, -1,  0, -1, -1,  0,  0,  1,  0,  0,\n",
       "         1, -1, -1,  0, -1, -1,  0,  1,  0, -1, -1, -1, -1, -1,  0, -1,  0, -1,\n",
       "        -1,  0,  0,  0, -1,  0,  0, -1,  1, -1,  1,  0,  0, -1, -1, -1,  0,  1,\n",
       "         0, -1, -1,  1,  0,  1, -1,  1,  1, -1, -1, -1, -1,  0,  0,  1,  1, -1,\n",
       "         0,  0,  0,  0, -1,  0, -1, -1, -1,  0, -1,  1, -1,  1,  0,  0, -1, -1,\n",
       "        -1, -1, -1, -1, -1,  0])"
      ]
     },
     "execution_count": 22,
     "metadata": {},
     "output_type": "execute_result"
    }
   ],
   "source": [
    "y_pred - 1"
   ]
  },
  {
   "cell_type": "code",
   "execution_count": 25,
   "metadata": {},
   "outputs": [],
   "source": [
    "outF = open(\"obama_bert.txt\", \"w\")\n",
    "STUDENT_ID= 15\n",
    "# PRINT STUDENT ID \n",
    "outF.write(str(STUDENT_ID))\n",
    "outF.write(\"\\n\")\n",
    "\n",
    "for idx, pred in zip(range(len(y_pred)), y_pred):\n",
    "  # write line to output file\n",
    "    outF.write(str(idx)+\";;\"+str(pred.item()-1))\n",
    "    outF.write(\"\\n\")\n",
    "outF.close()"
   ]
  },
  {
   "cell_type": "code",
   "execution_count": 37,
   "metadata": {},
   "outputs": [],
   "source": [
    "outF = open(\"obama.txt\", \"w\")\n",
    "STUDENT_ID= 15\n",
    "# PRINT STUDENT ID \n",
    "outF.write(str(STUDENT_ID))\n",
    "outF.write(\"\\n\")\n",
    "\n",
    "for idx, pred in zip(range(len(yo_pred)), yo_pred):\n",
    "  # write line to output file\n",
    "    outF.write(str(idx+1)+\";;\"+str(pred.item()-1))\n",
    "    outF.write(\"\\n\")\n",
    "outF.close()"
   ]
  },
  {
   "cell_type": "code",
   "execution_count": 38,
   "metadata": {},
   "outputs": [],
   "source": [
    "outF = open(\"romney.txt\", \"w\")\n",
    "STUDENT_ID= 15\n",
    "# PRINT STUDENT ID \n",
    "outF.write(str(STUDENT_ID))\n",
    "outF.write(\"\\n\")\n",
    "\n",
    "for idx, pred in zip(range(len(yr_pred)), yr_pred):\n",
    "  # write line to output file\n",
    "    outF.write(str(idx+1)+\";;\"+str(pred.item()-1))\n",
    "    outF.write(\"\\n\")\n",
    "outF.close()"
   ]
  },
  {
   "cell_type": "code",
   "execution_count": null,
   "metadata": {},
   "outputs": [],
   "source": []
  }
 ],
 "metadata": {
  "colab": {
   "name": "Bert-sentiment-analysis.ipynb",
   "provenance": []
  },
  "kernelspec": {
   "display_name": "keras-gpu-kernel",
   "language": "python",
   "name": "keras-gpu-kernel"
  },
  "language_info": {
   "codemirror_mode": {
    "name": "ipython",
    "version": 3
   },
   "file_extension": ".py",
   "mimetype": "text/x-python",
   "name": "python",
   "nbconvert_exporter": "python",
   "pygments_lexer": "ipython3",
   "version": "3.6.12"
  }
 },
 "nbformat": 4,
 "nbformat_minor": 1
}
