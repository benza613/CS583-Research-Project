{
 "cells": [
  {
   "cell_type": "code",
   "execution_count": 1,
   "metadata": {
    "colab": {
     "base_uri": "https://localhost:8080/"
    },
    "id": "1ImVN7i0JCHO",
    "outputId": "840aef5c-3a3c-46a3-ae9e-d9c027b6d2a5"
   },
   "outputs": [],
   "source": [
    "!pip install -qq transformers\n"
   ]
  },
  {
   "cell_type": "code",
   "execution_count": 2,
   "metadata": {
    "id": "Gh6CxmCAJ5zz"
   },
   "outputs": [],
   "source": [
    "from transformers import BertModel, BertTokenizer, AdamW, get_linear_schedule_with_warmup\n",
    "import torch\n",
    "\n",
    "import numpy as np\n",
    "import pandas as pd\n",
    "import seaborn as sns\n",
    "from pylab import rcParams\n",
    "import matplotlib.pyplot as plt\n",
    "from matplotlib import rc\n",
    "from sklearn.model_selection import train_test_split\n",
    "from sklearn.metrics import confusion_matrix, classification_report\n",
    "from collections import defaultdict\n",
    "from textwrap import wrap\n",
    "\n",
    "from torch import nn, optim\n",
    "from torch.utils.data import Dataset, DataLoader\n",
    "import torch.nn.functional as F\n"
   ]
  },
  {
   "cell_type": "code",
   "execution_count": 3,
   "metadata": {
    "colab": {
     "base_uri": "https://localhost:8080/"
    },
    "id": "KoF8sxYlKAuv",
    "outputId": "77204db9-f96e-4493-f8c4-895b2632dc72"
   },
   "outputs": [
    {
     "data": {
      "text/plain": [
       "device(type='cuda', index=0)"
      ]
     },
     "execution_count": 3,
     "metadata": {},
     "output_type": "execute_result"
    }
   ],
   "source": [
    "\n",
    "%matplotlib inline\n",
    "%config InlineBackend.figure_format='retina'\n",
    "\n",
    "sns.set(style='whitegrid', palette='muted', font_scale=1.2)\n",
    "\n",
    "HAPPY_COLORS_PALETTE = [\"#01BEFE\", \"#FFDD00\", \"#FF7D00\", \"#FF006D\", \"#ADFF02\", \"#8F00FF\"]\n",
    "\n",
    "sns.set_palette(sns.color_palette(HAPPY_COLORS_PALETTE))\n",
    "\n",
    "rcParams['figure.figsize'] = 12, 8\n",
    "\n",
    "RANDOM_SEED = 42\n",
    "np.random.seed(RANDOM_SEED)\n",
    "torch.manual_seed(RANDOM_SEED)\n",
    "\n",
    "device = torch.device(\"cuda:0\" if torch.cuda.is_available() else \"cpu\")\n",
    "device"
   ]
  },
  {
   "cell_type": "code",
   "execution_count": 8,
   "metadata": {
    "colab": {
     "base_uri": "https://localhost:8080/"
    },
    "id": "qBACtv9VNYJ_",
    "outputId": "27ed2c38-c38f-43be-df94-0f030de45d76"
   },
   "outputs": [
    {
     "name": "stdout",
     "output_type": "stream",
     "text": [
      "Mounted at /content/drive\n"
     ]
    }
   ],
   "source": [
    "from google.colab import drive\n",
    "drive.mount('/content/drive')"
   ]
  },
  {
   "cell_type": "code",
   "execution_count": 13,
   "metadata": {
    "colab": {
     "base_uri": "https://localhost:8080/"
    },
    "id": "itIC_N27Nu4g",
    "outputId": "774f4fbb-12b2-4379-ee8f-764c6e86e749"
   },
   "outputs": [
    {
     "name": "stdout",
     "output_type": "stream",
     "text": [
      "/content/drive/My Drive/DMTM/Research Project\n"
     ]
    }
   ],
   "source": [
    "# set working directory -> you must set the path into which you have uploaded the data file\n",
    "# this is required in the case of colab\n",
    "%cd /content/drive/My\\ Drive/DMTM/Research Project "
   ]
  },
  {
   "cell_type": "code",
   "execution_count": 4,
   "metadata": {
    "colab": {
     "base_uri": "https://localhost:8080/",
     "height": 206
    },
    "id": "AIBCiNubNSjU",
    "outputId": "aacbea76-6dc2-4ec0-dec9-f0895f6cc72a"
   },
   "outputs": [
    {
     "data": {
      "text/html": [
       "<div>\n",
       "<style scoped>\n",
       "    .dataframe tbody tr th:only-of-type {\n",
       "        vertical-align: middle;\n",
       "    }\n",
       "\n",
       "    .dataframe tbody tr th {\n",
       "        vertical-align: top;\n",
       "    }\n",
       "\n",
       "    .dataframe thead th {\n",
       "        text-align: right;\n",
       "    }\n",
       "</style>\n",
       "<table border=\"1\" class=\"dataframe\">\n",
       "  <thead>\n",
       "    <tr style=\"text-align: right;\">\n",
       "      <th></th>\n",
       "      <th>date</th>\n",
       "      <th>time</th>\n",
       "      <th>tweet</th>\n",
       "      <th>class</th>\n",
       "      <th>result</th>\n",
       "      <th>tweet_length</th>\n",
       "      <th>tweet_cleaned</th>\n",
       "      <th>tweet_clst</th>\n",
       "    </tr>\n",
       "  </thead>\n",
       "  <tbody>\n",
       "    <tr>\n",
       "      <th>0</th>\n",
       "      <td>2012-10-16 00:00:00</td>\n",
       "      <td>10:28:53-05:00</td>\n",
       "      <td>Kirkpatrick, who wore a baseball cap embroider...</td>\n",
       "      <td>0</td>\n",
       "      <td>NaN</td>\n",
       "      <td>136</td>\n",
       "      <td>['Kirkpatrick', 'wear', 'baseball', 'cap', 'em...</td>\n",
       "      <td>Kirkpatrick who wore a baseball cap embroidere...</td>\n",
       "    </tr>\n",
       "    <tr>\n",
       "      <th>1</th>\n",
       "      <td>2012-10-16 00:00:00</td>\n",
       "      <td>10:04:30-05:00</td>\n",
       "      <td>#&lt;e&gt;obama&lt;/e&gt; debates that Cracker Ass Cracker...</td>\n",
       "      <td>1</td>\n",
       "      <td>NaN</td>\n",
       "      <td>88</td>\n",
       "      <td>['obama', 'debate', 'Cracker', 'Ass', 'Cracker...</td>\n",
       "      <td>obama debates that Cracker Ass Cracker tonight...</td>\n",
       "    </tr>\n",
       "    <tr>\n",
       "      <th>2</th>\n",
       "      <td>2012-10-16 00:00:00</td>\n",
       "      <td>09:50:08-05:00</td>\n",
       "      <td>@Hollivan @hereistheanswer  Youre missing the ...</td>\n",
       "      <td>0</td>\n",
       "      <td>NaN</td>\n",
       "      <td>140</td>\n",
       "      <td>['Hollivan', 'hereistheanswer', 'Youre', 'miss...</td>\n",
       "      <td>Hollivan hereistheanswer Youre missing the poi...</td>\n",
       "    </tr>\n",
       "    <tr>\n",
       "      <th>3</th>\n",
       "      <td>2012-10-16 00:00:00</td>\n",
       "      <td>10:00:16-05:00</td>\n",
       "      <td>I was raised as a Democrat  left the party yea...</td>\n",
       "      <td>-1</td>\n",
       "      <td>NaN</td>\n",
       "      <td>146</td>\n",
       "      <td>['raise', 'Democrat', 'leave', 'party', 'years...</td>\n",
       "      <td>I was raised as a Democrat left the party year...</td>\n",
       "    </tr>\n",
       "    <tr>\n",
       "      <th>4</th>\n",
       "      <td>2012-10-16 00:00:00</td>\n",
       "      <td>09:48:07-05:00</td>\n",
       "      <td>The &lt;e&gt;Obama camp&lt;/e&gt; can't afford to lower ex...</td>\n",
       "      <td>0</td>\n",
       "      <td>NaN</td>\n",
       "      <td>124</td>\n",
       "      <td>['Obama', 'camp', 'ca', 'afford', 'lower', 'ex...</td>\n",
       "      <td>The Obama camp ca n't afford to lower expectat...</td>\n",
       "    </tr>\n",
       "  </tbody>\n",
       "</table>\n",
       "</div>"
      ],
      "text/plain": [
       "                  date            time  \\\n",
       "0  2012-10-16 00:00:00  10:28:53-05:00   \n",
       "1  2012-10-16 00:00:00  10:04:30-05:00   \n",
       "2  2012-10-16 00:00:00  09:50:08-05:00   \n",
       "3  2012-10-16 00:00:00  10:00:16-05:00   \n",
       "4  2012-10-16 00:00:00  09:48:07-05:00   \n",
       "\n",
       "                                               tweet  class  result  \\\n",
       "0  Kirkpatrick, who wore a baseball cap embroider...      0     NaN   \n",
       "1  #<e>obama</e> debates that Cracker Ass Cracker...      1     NaN   \n",
       "2  @Hollivan @hereistheanswer  Youre missing the ...      0     NaN   \n",
       "3  I was raised as a Democrat  left the party yea...     -1     NaN   \n",
       "4  The <e>Obama camp</e> can't afford to lower ex...      0     NaN   \n",
       "\n",
       "   tweet_length                                      tweet_cleaned  \\\n",
       "0           136  ['Kirkpatrick', 'wear', 'baseball', 'cap', 'em...   \n",
       "1            88  ['obama', 'debate', 'Cracker', 'Ass', 'Cracker...   \n",
       "2           140  ['Hollivan', 'hereistheanswer', 'Youre', 'miss...   \n",
       "3           146  ['raise', 'Democrat', 'leave', 'party', 'years...   \n",
       "4           124  ['Obama', 'camp', 'ca', 'afford', 'lower', 'ex...   \n",
       "\n",
       "                                          tweet_clst  \n",
       "0  Kirkpatrick who wore a baseball cap embroidere...  \n",
       "1  obama debates that Cracker Ass Cracker tonight...  \n",
       "2  Hollivan hereistheanswer Youre missing the poi...  \n",
       "3  I was raised as a Democrat left the party year...  \n",
       "4  The Obama camp ca n't afford to lower expectat...  "
      ]
     },
     "execution_count": 4,
     "metadata": {},
     "output_type": "execute_result"
    }
   ],
   "source": [
    "df = pd.read_csv(\"cxs583_cleaned_file_v2.csv\")\n",
    "df.head()"
   ]
  },
  {
   "cell_type": "code",
   "execution_count": 5,
   "metadata": {
    "colab": {
     "base_uri": "https://localhost:8080/"
    },
    "id": "wc579cYOPeam",
    "outputId": "0dcde3e4-b224-422b-96c3-77cc35e8afc7"
   },
   "outputs": [
    {
     "data": {
      "text/plain": [
       "(11273, 8)"
      ]
     },
     "execution_count": 5,
     "metadata": {},
     "output_type": "execute_result"
    }
   ],
   "source": [
    "df.shape"
   ]
  },
  {
   "cell_type": "code",
   "execution_count": 7,
   "metadata": {
    "colab": {
     "base_uri": "https://localhost:8080/",
     "height": 581
    },
    "id": "8mndkG5YPngs",
    "outputId": "17b9cac5-4e8e-421f-8968-da5797a74855"
   },
   "outputs": [
    {
     "name": "stderr",
     "output_type": "stream",
     "text": [
      "Truncation was not explicitly activated but `max_length` is provided a specific value, please use `truncation=True` to explicitly truncate examples to max length. Defaulting to 'longest_first' truncation strategy. If you encode pairs of sequences (GLUE-style) with the tokenizer you can select this strategy more precisely by providing a specific strategy to `truncation`.\n",
      "C:\\Users\\benza-ord\\anaconda3\\envs\\keras-gpu\\lib\\site-packages\\seaborn\\distributions.py:2551: FutureWarning: `distplot` is a deprecated function and will be removed in a future version. Please adapt your code to use either `displot` (a figure-level function with similar flexibility) or `histplot` (an axes-level function for histograms).\n",
      "  warnings.warn(msg, FutureWarning)\n"
     ]
    },
    {
     "data": {
      "image/png": "[encoded data removed]",
      "text/plain": [
       "<Figure size 864x576 with 1 Axes>"
      ]
     },
     "metadata": {
      "image/png": {
       "height": 488,
       "width": 737
      }
     },
     "output_type": "display_data"
    }
   ],
   "source": [
    "PRE_TRAINED_MODEL_NAME = 'bert-base-cased'\n",
    "tokenizer = BertTokenizer.from_pretrained(PRE_TRAINED_MODEL_NAME)\n",
    "\n",
    "token_lens = []\n",
    "\n",
    "def convert_sentiment_score(y):\n",
    "  y = int(y)\n",
    "  return y+1\n",
    "\n",
    "df['sentiment'] = df['class'].apply(convert_sentiment_score)\n",
    "\n",
    "df['tweet_clst'] = df['tweet_clst'].astype(str)\n",
    "\n",
    "for txt in df['tweet_clst']:\n",
    "  tokens = tokenizer.encode(txt, max_length=512)\n",
    "  token_lens.append(len(tokens))\n",
    "\n",
    "sns.distplot(token_lens)\n",
    "plt.xlim([0, 1256]);\n",
    "plt.xlabel('Token count');"
   ]
  },
  {
   "cell_type": "code",
   "execution_count": 8,
   "metadata": {
    "colab": {
     "base_uri": "https://localhost:8080/",
     "height": 206
    },
    "id": "u1W-ueYfUZT2",
    "outputId": "745ec446-ddbd-4f4b-f1e2-7cda675fcb57"
   },
   "outputs": [
    {
     "data": {
      "text/html": [
       "<div>\n",
       "<style scoped>\n",
       "    .dataframe tbody tr th:only-of-type {\n",
       "        vertical-align: middle;\n",
       "    }\n",
       "\n",
       "    .dataframe tbody tr th {\n",
       "        vertical-align: top;\n",
       "    }\n",
       "\n",
       "    .dataframe thead th {\n",
       "        text-align: right;\n",
       "    }\n",
       "</style>\n",
       "<table border=\"1\" class=\"dataframe\">\n",
       "  <thead>\n",
       "    <tr style=\"text-align: right;\">\n",
       "      <th></th>\n",
       "      <th>date</th>\n",
       "      <th>time</th>\n",
       "      <th>tweet</th>\n",
       "      <th>class</th>\n",
       "      <th>result</th>\n",
       "      <th>tweet_length</th>\n",
       "      <th>tweet_cleaned</th>\n",
       "      <th>tweet_clst</th>\n",
       "      <th>sentiment</th>\n",
       "    </tr>\n",
       "  </thead>\n",
       "  <tbody>\n",
       "    <tr>\n",
       "      <th>0</th>\n",
       "      <td>2012-10-16 00:00:00</td>\n",
       "      <td>10:28:53-05:00</td>\n",
       "      <td>Kirkpatrick, who wore a baseball cap embroider...</td>\n",
       "      <td>0</td>\n",
       "      <td>NaN</td>\n",
       "      <td>136</td>\n",
       "      <td>['Kirkpatrick', 'wear', 'baseball', 'cap', 'em...</td>\n",
       "      <td>Kirkpatrick who wore a baseball cap embroidere...</td>\n",
       "      <td>1</td>\n",
       "    </tr>\n",
       "    <tr>\n",
       "      <th>1</th>\n",
       "      <td>2012-10-16 00:00:00</td>\n",
       "      <td>10:04:30-05:00</td>\n",
       "      <td>#&lt;e&gt;obama&lt;/e&gt; debates that Cracker Ass Cracker...</td>\n",
       "      <td>1</td>\n",
       "      <td>NaN</td>\n",
       "      <td>88</td>\n",
       "      <td>['obama', 'debate', 'Cracker', 'Ass', 'Cracker...</td>\n",
       "      <td>obama debates that Cracker Ass Cracker tonight...</td>\n",
       "      <td>2</td>\n",
       "    </tr>\n",
       "    <tr>\n",
       "      <th>2</th>\n",
       "      <td>2012-10-16 00:00:00</td>\n",
       "      <td>09:50:08-05:00</td>\n",
       "      <td>@Hollivan @hereistheanswer  Youre missing the ...</td>\n",
       "      <td>0</td>\n",
       "      <td>NaN</td>\n",
       "      <td>140</td>\n",
       "      <td>['Hollivan', 'hereistheanswer', 'Youre', 'miss...</td>\n",
       "      <td>Hollivan hereistheanswer Youre missing the poi...</td>\n",
       "      <td>1</td>\n",
       "    </tr>\n",
       "    <tr>\n",
       "      <th>3</th>\n",
       "      <td>2012-10-16 00:00:00</td>\n",
       "      <td>10:00:16-05:00</td>\n",
       "      <td>I was raised as a Democrat  left the party yea...</td>\n",
       "      <td>-1</td>\n",
       "      <td>NaN</td>\n",
       "      <td>146</td>\n",
       "      <td>['raise', 'Democrat', 'leave', 'party', 'years...</td>\n",
       "      <td>I was raised as a Democrat left the party year...</td>\n",
       "      <td>0</td>\n",
       "    </tr>\n",
       "    <tr>\n",
       "      <th>4</th>\n",
       "      <td>2012-10-16 00:00:00</td>\n",
       "      <td>09:48:07-05:00</td>\n",
       "      <td>The &lt;e&gt;Obama camp&lt;/e&gt; can't afford to lower ex...</td>\n",
       "      <td>0</td>\n",
       "      <td>NaN</td>\n",
       "      <td>124</td>\n",
       "      <td>['Obama', 'camp', 'ca', 'afford', 'lower', 'ex...</td>\n",
       "      <td>The Obama camp ca n't afford to lower expectat...</td>\n",
       "      <td>1</td>\n",
       "    </tr>\n",
       "  </tbody>\n",
       "</table>\n",
       "</div>"
      ],
      "text/plain": [
       "                  date            time  \\\n",
       "0  2012-10-16 00:00:00  10:28:53-05:00   \n",
       "1  2012-10-16 00:00:00  10:04:30-05:00   \n",
       "2  2012-10-16 00:00:00  09:50:08-05:00   \n",
       "3  2012-10-16 00:00:00  10:00:16-05:00   \n",
       "4  2012-10-16 00:00:00  09:48:07-05:00   \n",
       "\n",
       "                                               tweet  class  result  \\\n",
       "0  Kirkpatrick, who wore a baseball cap embroider...      0     NaN   \n",
       "1  #<e>obama</e> debates that Cracker Ass Cracker...      1     NaN   \n",
       "2  @Hollivan @hereistheanswer  Youre missing the ...      0     NaN   \n",
       "3  I was raised as a Democrat  left the party yea...     -1     NaN   \n",
       "4  The <e>Obama camp</e> can't afford to lower ex...      0     NaN   \n",
       "\n",
       "   tweet_length                                      tweet_cleaned  \\\n",
       "0           136  ['Kirkpatrick', 'wear', 'baseball', 'cap', 'em...   \n",
       "1            88  ['obama', 'debate', 'Cracker', 'Ass', 'Cracker...   \n",
       "2           140  ['Hollivan', 'hereistheanswer', 'Youre', 'miss...   \n",
       "3           146  ['raise', 'Democrat', 'leave', 'party', 'years...   \n",
       "4           124  ['Obama', 'camp', 'ca', 'afford', 'lower', 'ex...   \n",
       "\n",
       "                                          tweet_clst  sentiment  \n",
       "0  Kirkpatrick who wore a baseball cap embroidere...          1  \n",
       "1  obama debates that Cracker Ass Cracker tonight...          2  \n",
       "2  Hollivan hereistheanswer Youre missing the poi...          1  \n",
       "3  I was raised as a Democrat left the party year...          0  \n",
       "4  The Obama camp ca n't afford to lower expectat...          1  "
      ]
     },
     "execution_count": 8,
     "metadata": {},
     "output_type": "execute_result"
    }
   ],
   "source": [
    "df.head()"
   ]
  },
  {
   "cell_type": "code",
   "execution_count": 9,
   "metadata": {
    "id": "3ZBDFRdVRKy4"
   },
   "outputs": [],
   "source": [
    "# most of the tweets do not have more than 50 chars\n",
    "MAX_LEN = 50\n",
    "\n",
    "# split 90-10 train-test\n",
    "df_train, df_test = train_test_split(df, test_size=0.1, random_state=RANDOM_SEED)\n",
    "# split test into 50-50 val-test\n",
    "df_val, df_test = train_test_split(df_test, test_size=0.5, random_state=RANDOM_SEED)"
   ]
  },
  {
   "cell_type": "code",
   "execution_count": 10,
   "metadata": {
    "colab": {
     "base_uri": "https://localhost:8080/"
    },
    "id": "TBvGhNbARw4w",
    "outputId": "32531c3c-30cd-4353-f122-36aec09895a0"
   },
   "outputs": [
    {
     "data": {
      "text/plain": [
       "((10145, 9), (564, 9), (564, 9))"
      ]
     },
     "execution_count": 10,
     "metadata": {},
     "output_type": "execute_result"
    }
   ],
   "source": [
    "df_train.shape, df_val.shape, df_test.shape"
   ]
  },
  {
   "cell_type": "code",
   "execution_count": 11,
   "metadata": {
    "id": "S5JFcREASM_E"
   },
   "outputs": [],
   "source": [
    "class GPReviewDataset(Dataset):\n",
    "\n",
    "  def __init__(self, reviews, targets, tokenizer, max_len):\n",
    "    self.reviews = reviews\n",
    "    self.targets = targets\n",
    "    self.tokenizer = tokenizer\n",
    "    self.max_len = max_len\n",
    "  \n",
    "  def __len__(self):\n",
    "    return len(self.reviews)\n",
    "  \n",
    "  def __getitem__(self, item):\n",
    "    review = str(self.reviews[item])\n",
    "    target = self.targets[item]\n",
    "\n",
    "    encoding = self.tokenizer.encode_plus(\n",
    "      review,\n",
    "      add_special_tokens=True,\n",
    "      max_length=self.max_len,\n",
    "      return_token_type_ids=False,\n",
    "      pad_to_max_length=True,\n",
    "      return_attention_mask=True,\n",
    "      return_tensors='pt',\n",
    "    )\n",
    "\n",
    "    return {\n",
    "      'review_text': review,\n",
    "      'input_ids': encoding['input_ids'].flatten(),\n",
    "      'attention_mask': encoding['attention_mask'].flatten(),\n",
    "      'targets': torch.tensor(target, dtype=torch.long)\n",
    "    }"
   ]
  },
  {
   "cell_type": "code",
   "execution_count": 21,
   "metadata": {
    "id": "KvlCbzfER185"
   },
   "outputs": [],
   "source": [
    "# create a couple of data loaders\n",
    "def create_data_loader(df, tokenizer, max_len, batch_size):\n",
    "  ds = GPReviewDataset(\n",
    "    reviews=df['tweet_clst'].to_numpy(),\n",
    "    targets=df['sentiment'].to_numpy(),\n",
    "    tokenizer=tokenizer,\n",
    "    max_len=max_len\n",
    "  )\n",
    "\n",
    "  return DataLoader(\n",
    "    ds,\n",
    "    batch_size=batch_size\n",
    "  )"
   ]
  },
  {
   "cell_type": "code",
   "execution_count": 22,
   "metadata": {
    "id": "2mkCG3tqR12B"
   },
   "outputs": [],
   "source": [
    "BATCH_SIZE = 10\n",
    "\n",
    "train_data_loader = create_data_loader(df_train, tokenizer, MAX_LEN, BATCH_SIZE)\n",
    "val_data_loader = create_data_loader(df_val, tokenizer, MAX_LEN, BATCH_SIZE)\n",
    "test_data_loader = create_data_loader(df_test, tokenizer, MAX_LEN, BATCH_SIZE)"
   ]
  },
  {
   "cell_type": "code",
   "execution_count": 23,
   "metadata": {
    "colab": {
     "base_uri": "https://localhost:8080/"
    },
    "id": "0B6eD9URViTn",
    "outputId": "1e6f3645-4654-4c1c-f980-0cfb4b0a3752"
   },
   "outputs": [
    {
     "data": {
      "text/plain": [
       "dict_keys(['review_text', 'input_ids', 'attention_mask', 'targets'])"
      ]
     },
     "execution_count": 23,
     "metadata": {},
     "output_type": "execute_result"
    }
   ],
   "source": [
    "data = next(iter(train_data_loader))\n",
    "data.keys()"
   ]
  },
  {
   "cell_type": "code",
   "execution_count": 24,
   "metadata": {
    "colab": {
     "base_uri": "https://localhost:8080/"
    },
    "id": "89T0oa5VVkgT",
    "outputId": "661f0958-cb73-4509-b1cd-781662c8cf55"
   },
   "outputs": [
    {
     "name": "stdout",
     "output_type": "stream",
     "text": [
      "torch.Size([10, 50])\n",
      "torch.Size([10, 50])\n",
      "tensor([2, 1, 2, 0, 1, 1, 0, 0, 1, 1])\n"
     ]
    }
   ],
   "source": [
    "print(data['input_ids'].shape)\n",
    "print(data['attention_mask'].shape)\n",
    "print(data['targets'])"
   ]
  },
  {
   "cell_type": "code",
   "execution_count": 25,
   "metadata": {
    "id": "O6o3qXooSfP6"
   },
   "outputs": [
    {
     "data": {
      "application/vnd.jupyter.widget-view+json": {
       "model_id": "6a58da60dd1c423f97c8e5d2174a75e0",
       "version_major": 2,
       "version_minor": 0
      },
      "text/plain": [
       "HBox(children=(HTML(value='Downloading'), FloatProgress(value=0.0, max=433.0), HTML(value='')))"
      ]
     },
     "metadata": {},
     "output_type": "display_data"
    },
    {
     "name": "stdout",
     "output_type": "stream",
     "text": [
      "\n"
     ]
    },
    {
     "data": {
      "application/vnd.jupyter.widget-view+json": {
       "model_id": "09baaafe35f94a138daa59fe58c91cfa",
       "version_major": 2,
       "version_minor": 0
      },
      "text/plain": [
       "HBox(children=(HTML(value='Downloading'), FloatProgress(value=0.0, max=435779157.0), HTML(value='')))"
      ]
     },
     "metadata": {},
     "output_type": "display_data"
    },
    {
     "name": "stdout",
     "output_type": "stream",
     "text": [
      "\n"
     ]
    }
   ],
   "source": [
    "bert_model = BertModel.from_pretrained(PRE_TRAINED_MODEL_NAME)"
   ]
  },
  {
   "cell_type": "code",
   "execution_count": 26,
   "metadata": {
    "id": "OQnU20T1SucX"
   },
   "outputs": [],
   "source": [
    "class SentimentClassifier(nn.Module):\n",
    "\n",
    "  def __init__(self, n_classes):\n",
    "    super(SentimentClassifier, self).__init__()\n",
    "    self.bert = BertModel.from_pretrained(PRE_TRAINED_MODEL_NAME)\n",
    "    self.drop = nn.Dropout(p=0.3)\n",
    "    self.out = nn.Linear(self.bert.config.hidden_size, n_classes)\n",
    "  \n",
    "  def forward(self, input_ids, attention_mask):\n",
    "    _, pooled_output = self.bert(\n",
    "      input_ids=input_ids,\n",
    "      attention_mask=attention_mask\n",
    "    )\n",
    "    output = self.drop(pooled_output)\n",
    "    return self.out(output)\n",
    "\n",
    "class_names = [-1, 0, 1]\n",
    "model = SentimentClassifier(len(class_names))\n",
    "model = model.to(device)"
   ]
  },
  {
   "cell_type": "code",
   "execution_count": 27,
   "metadata": {
    "id": "Za1DU6vGTGe8"
   },
   "outputs": [],
   "source": [
    "EPOCHS = 10\n",
    "\n",
    "optimizer = AdamW(model.parameters(), lr=2e-5, correct_bias=False)\n",
    "total_steps = len(train_data_loader) * EPOCHS\n",
    "\n",
    "scheduler = get_linear_schedule_with_warmup(\n",
    "  optimizer,\n",
    "  num_warmup_steps=0,\n",
    "  num_training_steps=total_steps\n",
    ")\n",
    "\n",
    "loss_fn = nn.CrossEntropyLoss().to(device)"
   ]
  },
  {
   "cell_type": "code",
   "execution_count": 35,
   "metadata": {
    "id": "cylryw8BTOiq"
   },
   "outputs": [],
   "source": [
    "def train_epoch(\n",
    "  model, \n",
    "  data_loader, \n",
    "  loss_fn, \n",
    "  optimizer, \n",
    "  device, \n",
    "  scheduler, \n",
    "  n_examples\n",
    "):\n",
    "  model = model.train()\n",
    "\n",
    "  losses = []\n",
    "  correct_predictions = 0\n",
    "  \n",
    "  #for d in data_loader:\n",
    "  for batch_idx, d in enumerate(data_loader):\n",
    "    if (batch_idx % 100 == 0):\n",
    "        print('BATCH ',batch_idx, len(data_loader))\n",
    "    input_ids = d[\"input_ids\"].to(device)\n",
    "    attention_mask = d[\"attention_mask\"].to(device)\n",
    "    targets = d[\"targets\"].to(device)\n",
    "\n",
    "    outputs = model(\n",
    "      input_ids=input_ids,\n",
    "      attention_mask=attention_mask\n",
    "    )\n",
    "\n",
    "    _, preds = torch.max(outputs, dim=1)\n",
    "    loss = loss_fn(outputs, targets)\n",
    "\n",
    "    correct_predictions += torch.sum(preds == targets)\n",
    "    losses.append(loss.item())\n",
    "\n",
    "    loss.backward()\n",
    "    nn.utils.clip_grad_norm_(model.parameters(), max_norm=1.0)\n",
    "    optimizer.step()\n",
    "    scheduler.step()\n",
    "    optimizer.zero_grad()\n",
    "\n",
    "  return correct_predictions.double() / n_examples, np.mean(losses)"
   ]
  },
  {
   "cell_type": "code",
   "execution_count": 36,
   "metadata": {
    "id": "D0y_asK6TVPb"
   },
   "outputs": [],
   "source": [
    "def eval_model(model, data_loader, loss_fn, device, n_examples):\n",
    "  model = model.eval()\n",
    "\n",
    "  losses = []\n",
    "  correct_predictions = 0\n",
    "\n",
    "  with torch.no_grad():\n",
    "    for d in data_loader:\n",
    "      input_ids = d[\"input_ids\"].to(device)\n",
    "      attention_mask = d[\"attention_mask\"].to(device)\n",
    "      targets = d[\"targets\"].to(device)\n",
    "\n",
    "      outputs = model(\n",
    "        input_ids=input_ids,\n",
    "        attention_mask=attention_mask\n",
    "      )\n",
    "      _, preds = torch.max(outputs, dim=1)\n",
    "\n",
    "      loss = loss_fn(outputs, targets)\n",
    "\n",
    "      correct_predictions += torch.sum(preds == targets)\n",
    "      losses.append(loss.item())\n",
    "\n",
    "  return correct_predictions.double() / n_examples, np.mean(losses)"
   ]
  },
  {
   "cell_type": "code",
   "execution_count": 37,
   "metadata": {
    "colab": {
     "base_uri": "https://localhost:8080/",
     "height": 675
    },
    "id": "qeOwlxpqTWUl",
    "outputId": "26ae649d-3b43-4b26-cc54-5f7e511d15b5"
   },
   "outputs": [
    {
     "name": "stdout",
     "output_type": "stream",
     "text": [
      "Epoch 1/10\n",
      "----------\n",
      "BATCH  0 1015\n",
      "BATCH  100 1015\n",
      "BATCH  200 1015\n",
      "BATCH  300 1015\n",
      "BATCH  400 1015\n",
      "BATCH  500 1015\n",
      "BATCH  600 1015\n",
      "BATCH  700 1015\n",
      "BATCH  800 1015\n",
      "BATCH  900 1015\n",
      "BATCH  1000 1015\n",
      "Train loss 0.9676103000570401 accuracy 0.5440118284869394\n",
      "Val   loss 0.9049025768773598 accuracy 0.6028368794326241\n",
      "\n",
      "Epoch 2/10\n",
      "----------\n",
      "BATCH  0 1015\n",
      "BATCH  100 1015\n",
      "BATCH  200 1015\n",
      "BATCH  300 1015\n",
      "BATCH  400 1015\n",
      "BATCH  500 1015\n",
      "BATCH  600 1015\n",
      "BATCH  700 1015\n",
      "BATCH  800 1015\n",
      "BATCH  900 1015\n",
      "BATCH  1000 1015\n",
      "Train loss 0.791872890770729 accuracy 0.6733366190241499\n",
      "Val   loss 0.9474397401014963 accuracy 0.6117021276595744\n",
      "\n",
      "Epoch 3/10\n",
      "----------\n",
      "BATCH  0 1015\n",
      "BATCH  100 1015\n",
      "BATCH  200 1015\n",
      "BATCH  300 1015\n",
      "BATCH  400 1015\n",
      "BATCH  500 1015\n",
      "BATCH  600 1015\n",
      "BATCH  700 1015\n",
      "BATCH  800 1015\n",
      "BATCH  900 1015\n",
      "BATCH  1000 1015\n",
      "Train loss 0.6046780455398736 accuracy 0.7676688023656975\n",
      "Val   loss 1.1125555642341312 accuracy 0.6471631205673759\n",
      "\n",
      "Epoch 4/10\n",
      "----------\n",
      "BATCH  0 1015\n",
      "BATCH  100 1015\n",
      "BATCH  200 1015\n",
      "BATCH  300 1015\n",
      "BATCH  400 1015\n",
      "BATCH  500 1015\n",
      "BATCH  600 1015\n",
      "BATCH  700 1015\n",
      "BATCH  800 1015\n",
      "BATCH  900 1015\n",
      "BATCH  1000 1015\n",
      "Train loss 0.4548771640974019 accuracy 0.8455396747166092\n",
      "Val   loss 1.3027559277650558 accuracy 0.6205673758865248\n",
      "\n",
      "Epoch 5/10\n",
      "----------\n",
      "BATCH  0 1015\n",
      "BATCH  100 1015\n",
      "BATCH  200 1015\n",
      "BATCH  300 1015\n",
      "BATCH  400 1015\n",
      "BATCH  500 1015\n",
      "BATCH  600 1015\n",
      "BATCH  700 1015\n",
      "BATCH  800 1015\n",
      "BATCH  900 1015\n",
      "BATCH  1000 1015\n",
      "Train loss 0.3471551273862276 accuracy 0.9016264169541647\n",
      "Val   loss 1.7500137959100437 accuracy 0.6312056737588653\n",
      "\n",
      "Epoch 6/10\n",
      "----------\n",
      "BATCH  0 1015\n",
      "BATCH  100 1015\n",
      "BATCH  200 1015\n",
      "BATCH  300 1015\n",
      "BATCH  400 1015\n",
      "BATCH  500 1015\n",
      "BATCH  600 1015\n",
      "BATCH  700 1015\n",
      "BATCH  800 1015\n",
      "BATCH  900 1015\n",
      "BATCH  1000 1015\n",
      "Train loss 0.27790920646962125 accuracy 0.9289305076392311\n",
      "Val   loss 1.9006699013866877 accuracy 0.6187943262411347\n",
      "\n",
      "Epoch 7/10\n",
      "----------\n",
      "BATCH  0 1015\n",
      "BATCH  100 1015\n",
      "BATCH  200 1015\n",
      "BATCH  300 1015\n",
      "BATCH  400 1015\n",
      "BATCH  500 1015\n",
      "BATCH  600 1015\n",
      "BATCH  700 1015\n",
      "BATCH  800 1015\n",
      "BATCH  900 1015\n",
      "BATCH  1000 1015\n",
      "Train loss 0.22216597396244978 accuracy 0.9471660916707738\n",
      "Val   loss 2.0312920004341817 accuracy 0.6170212765957447\n",
      "\n",
      "Epoch 8/10\n",
      "----------\n",
      "BATCH  0 1015\n",
      "BATCH  100 1015\n",
      "BATCH  200 1015\n",
      "BATCH  300 1015\n",
      "BATCH  400 1015\n",
      "BATCH  500 1015\n",
      "BATCH  600 1015\n",
      "BATCH  700 1015\n",
      "BATCH  800 1015\n",
      "BATCH  900 1015\n",
      "BATCH  1000 1015\n",
      "Train loss 0.18246798280665533 accuracy 0.9573188762937408\n",
      "Val   loss 2.288194225545515 accuracy 0.6081560283687943\n",
      "\n",
      "Epoch 9/10\n",
      "----------\n",
      "BATCH  0 1015\n",
      "BATCH  100 1015\n",
      "BATCH  200 1015\n",
      "BATCH  300 1015\n",
      "BATCH  400 1015\n",
      "BATCH  500 1015\n",
      "BATCH  600 1015\n",
      "BATCH  700 1015\n",
      "BATCH  800 1015\n",
      "BATCH  900 1015\n",
      "BATCH  1000 1015\n",
      "Train loss 0.1503207649500568 accuracy 0.9668802365697389\n",
      "Val   loss 2.3310475067088476 accuracy 0.601063829787234\n",
      "\n",
      "Epoch 10/10\n",
      "----------\n",
      "BATCH  0 1015\n",
      "BATCH  100 1015\n",
      "BATCH  200 1015\n",
      "BATCH  300 1015\n",
      "BATCH  400 1015\n",
      "BATCH  500 1015\n",
      "BATCH  600 1015\n",
      "BATCH  700 1015\n",
      "BATCH  800 1015\n",
      "BATCH  900 1015\n",
      "BATCH  1000 1015\n",
      "Train loss 0.1259960687686024 accuracy 0.9719073435189749\n",
      "Val   loss 2.3399015874193427 accuracy 0.6063829787234042\n",
      "\n",
      "Wall time: 29min 53s\n"
     ]
    }
   ],
   "source": [
    "%%time\n",
    "\n",
    "history = defaultdict(list)\n",
    "best_accuracy = 0\n",
    "\n",
    "for epoch in range(EPOCHS):\n",
    "    print(f'Epoch {epoch + 1}/{EPOCHS}')\n",
    "    print('-' * 10)\n",
    "  \n",
    "    train_acc, train_loss = train_epoch(\n",
    "    model,\n",
    "    train_data_loader,    \n",
    "    loss_fn, \n",
    "    optimizer, \n",
    "    device, \n",
    "    scheduler, \n",
    "    len(df_train)\n",
    "    )\n",
    "\n",
    "    print(f'Train loss {train_loss} accuracy {train_acc}')\n",
    "\n",
    "    val_acc, val_loss = eval_model(\n",
    "        model,\n",
    "        val_data_loader,\n",
    "        loss_fn, \n",
    "        device, \n",
    "        len(df_val)\n",
    "    )\n",
    "\n",
    "    print(f'Val   loss {val_loss} accuracy {val_acc}')\n",
    "    print()\n",
    "\n",
    "    history['train_acc'].append(train_acc)\n",
    "    history['train_loss'].append(train_loss)\n",
    "    history['val_acc'].append(val_acc)\n",
    "    history['val_loss'].append(val_loss)\n",
    "\n",
    "    if val_acc > best_accuracy:\n",
    "        torch.save(model.state_dict(), 'best_model_state.bin')\n",
    "        best_accuracy = val_acc"
   ]
  },
  {
   "cell_type": "code",
   "execution_count": 38,
   "metadata": {},
   "outputs": [
    {
     "data": {
      "image/png": "[encoded data removed]",
      "text/plain": [
       "<Figure size 864x576 with 1 Axes>"
      ]
     },
     "metadata": {
      "image/png": {
       "height": 505,
       "width": 729
      }
     },
     "output_type": "display_data"
    }
   ],
   "source": [
    "plt.plot(history['train_acc'], label='train accuracy')\n",
    "plt.plot(history['val_acc'], label='validation accuracy')\n",
    "\n",
    "plt.title('Training history')\n",
    "plt.ylabel('Accuracy')\n",
    "plt.xlabel('Epoch')\n",
    "plt.legend()\n",
    "plt.ylim([0, 1]);"
   ]
  },
  {
   "cell_type": "code",
   "execution_count": 39,
   "metadata": {},
   "outputs": [
    {
     "data": {
      "text/plain": [
       "0.6542553191489362"
      ]
     },
     "execution_count": 39,
     "metadata": {},
     "output_type": "execute_result"
    }
   ],
   "source": [
    "test_acc, _ = eval_model(\n",
    "  model,\n",
    "  test_data_loader,\n",
    "  loss_fn,\n",
    "  device,\n",
    "  len(df_test)\n",
    ")\n",
    "\n",
    "test_acc.item()"
   ]
  },
  {
   "cell_type": "code",
   "execution_count": 40,
   "metadata": {},
   "outputs": [],
   "source": [
    "def get_predictions(model, data_loader):\n",
    "  model = model.eval()\n",
    "  \n",
    "  review_texts = []\n",
    "  predictions = []\n",
    "  prediction_probs = []\n",
    "  real_values = []\n",
    "\n",
    "  with torch.no_grad():\n",
    "    for d in data_loader:\n",
    "\n",
    "      texts = d[\"review_text\"]\n",
    "      input_ids = d[\"input_ids\"].to(device)\n",
    "      attention_mask = d[\"attention_mask\"].to(device)\n",
    "      targets = d[\"targets\"].to(device)\n",
    "\n",
    "      outputs = model(\n",
    "        input_ids=input_ids,\n",
    "        attention_mask=attention_mask\n",
    "      )\n",
    "      _, preds = torch.max(outputs, dim=1)\n",
    "\n",
    "      probs = F.softmax(outputs, dim=1)\n",
    "\n",
    "      review_texts.extend(texts)\n",
    "      predictions.extend(preds)\n",
    "      prediction_probs.extend(probs)\n",
    "      real_values.extend(targets)\n",
    "\n",
    "  predictions = torch.stack(predictions).cpu()\n",
    "  prediction_probs = torch.stack(prediction_probs).cpu()\n",
    "  real_values = torch.stack(real_values).cpu()\n",
    "  return review_texts, predictions, prediction_probs, real_values"
   ]
  },
  {
   "cell_type": "code",
   "execution_count": 41,
   "metadata": {},
   "outputs": [],
   "source": [
    "y_review_texts, y_pred, y_pred_probs, y_test = get_predictions(\n",
    "  model,\n",
    "  test_data_loader\n",
    ")"
   ]
  },
  {
   "cell_type": "code",
   "execution_count": 43,
   "metadata": {},
   "outputs": [
    {
     "name": "stdout",
     "output_type": "stream",
     "text": [
      "              precision    recall  f1-score   support\n",
      "\n",
      "    Negative       0.68      0.72      0.70       223\n",
      "     Neutral       0.59      0.63      0.61       183\n",
      "    Positive       0.70      0.59      0.64       158\n",
      "\n",
      "    accuracy                           0.65       564\n",
      "   macro avg       0.66      0.65      0.65       564\n",
      "weighted avg       0.66      0.65      0.65       564\n",
      "\n"
     ]
    }
   ],
   "source": [
    "print(classification_report(y_test, y_pred, target_names=[\"Negative\", \"Neutral\", \"Positive\"]))"
   ]
  },
  {
   "cell_type": "code",
   "execution_count": 46,
   "metadata": {},
   "outputs": [
    {
     "data": {
      "image/png": "[encoded data removed]",
      "text/plain": [
       "<Figure size 864x576 with 2 Axes>"
      ]
     },
     "metadata": {
      "image/png": {
       "height": 518,
       "width": 716
      }
     },
     "output_type": "display_data"
    }
   ],
   "source": [
    "def show_confusion_matrix(confusion_matrix):\n",
    "  hmap = sns.heatmap(confusion_matrix, annot=True, fmt=\"d\", cmap=\"Blues\")\n",
    "  hmap.yaxis.set_ticklabels(hmap.yaxis.get_ticklabels(), rotation=0, ha='right')\n",
    "  hmap.xaxis.set_ticklabels(hmap.xaxis.get_ticklabels(), rotation=30, ha='right')\n",
    "  plt.ylabel('True sentiment')\n",
    "  plt.xlabel('Predicted sentiment');\n",
    "\n",
    "cm = confusion_matrix(y_test, y_pred)\n",
    "df_cm = pd.DataFrame(cm, index=[\"Negative\", \"Neutral\", \"Positive\"], columns=[\"Negative\", \"Neutral\", \"Positive\"])\n",
    "show_confusion_matrix(df_cm)"
   ]
  },
  {
   "cell_type": "code",
   "execution_count": null,
   "metadata": {},
   "outputs": [],
   "source": []
  }
 ],
 "metadata": {
  "colab": {
   "name": "Bert-sentiment-analysis.ipynb",
   "provenance": []
  },
  "kernelspec": {
   "display_name": "keras-gpu-kernel",
   "language": "python",
   "name": "keras-gpu-kernel"
  },
  "language_info": {
   "codemirror_mode": {
    "name": "ipython",
    "version": 3
   },
   "file_extension": ".py",
   "mimetype": "text/x-python",
   "name": "python",
   "nbconvert_exporter": "python",
   "pygments_lexer": "ipython3",
   "version": "3.6.12"
  }
 },
 "nbformat": 4,
 "nbformat_minor": 1
}
